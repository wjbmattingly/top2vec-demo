{
 "cells": [
  {
   "cell_type": "code",
   "execution_count": 1,
   "id": "b9f3d518-eb56-4979-8f24-5bbbe6840807",
   "metadata": {},
   "outputs": [],
   "source": [
    "import pandas as pd\n",
    "import re\n",
    "from top2vec import Top2Vec"
   ]
  },
  {
   "cell_type": "code",
   "execution_count": 2,
   "id": "3ede8bca-7c53-4bfc-8ac7-41a37f5c7157",
   "metadata": {},
   "outputs": [
    {
     "data": {
      "text/html": [
       "<div>\n",
       "<style scoped>\n",
       "    .dataframe tbody tr th:only-of-type {\n",
       "        vertical-align: middle;\n",
       "    }\n",
       "\n",
       "    .dataframe tbody tr th {\n",
       "        vertical-align: top;\n",
       "    }\n",
       "\n",
       "    .dataframe thead th {\n",
       "        text-align: right;\n",
       "    }\n",
       "</style>\n",
       "<table border=\"1\" class=\"dataframe\">\n",
       "  <thead>\n",
       "    <tr style=\"text-align: right;\">\n",
       "      <th></th>\n",
       "      <th>names</th>\n",
       "      <th>descriptions</th>\n",
       "    </tr>\n",
       "  </thead>\n",
       "  <tbody>\n",
       "    <tr>\n",
       "      <th>0</th>\n",
       "      <td>AARON, Thabo Simon</td>\n",
       "      <td>An ANCYL member who was shot and severely inju...</td>\n",
       "    </tr>\n",
       "    <tr>\n",
       "      <th>1</th>\n",
       "      <td>ABBOTT, Montaigne</td>\n",
       "      <td>A member of the SADF who was severely injured ...</td>\n",
       "    </tr>\n",
       "    <tr>\n",
       "      <th>2</th>\n",
       "      <td>ABDUL WAHAB, Zakier</td>\n",
       "      <td>A member of QIBLA who disappeared in September...</td>\n",
       "    </tr>\n",
       "    <tr>\n",
       "      <th>3</th>\n",
       "      <td>ABRAHAM, Nzaliseko Christopher</td>\n",
       "      <td>A COSAS supporter who was kicked and beaten wi...</td>\n",
       "    </tr>\n",
       "    <tr>\n",
       "      <th>4</th>\n",
       "      <td>ABRAHAMS, Achmat Fardiel</td>\n",
       "      <td>Was shot and blinded in one eye by members of ...</td>\n",
       "    </tr>\n",
       "    <tr>\n",
       "      <th>...</th>\n",
       "      <td>...</td>\n",
       "      <td>...</td>\n",
       "    </tr>\n",
       "    <tr>\n",
       "      <th>21742</th>\n",
       "      <td>ZWENI, Ernest</td>\n",
       "      <td>One of two South African Police (SAP) members ...</td>\n",
       "    </tr>\n",
       "    <tr>\n",
       "      <th>21743</th>\n",
       "      <td>ZWENI, Lebuti</td>\n",
       "      <td>An ANC supporter who was shot dead by a named ...</td>\n",
       "    </tr>\n",
       "    <tr>\n",
       "      <th>21744</th>\n",
       "      <td>ZWENI, Louis</td>\n",
       "      <td>Was shot dead in Tokoza, Transvaal, on 22 May ...</td>\n",
       "    </tr>\n",
       "    <tr>\n",
       "      <th>21745</th>\n",
       "      <td>ZWENI, Mpantesa William</td>\n",
       "      <td>His home was lost in an arson attack by Witdoe...</td>\n",
       "    </tr>\n",
       "    <tr>\n",
       "      <th>21746</th>\n",
       "      <td>ZWENI, Xolile Milton</td>\n",
       "      <td>A Transkei Defence Force (TDF) soldier who was...</td>\n",
       "    </tr>\n",
       "  </tbody>\n",
       "</table>\n",
       "<p>21747 rows × 2 columns</p>\n",
       "</div>"
      ],
      "text/plain": [
       "                                names  \\\n",
       "0                  AARON, Thabo Simon   \n",
       "1                   ABBOTT, Montaigne   \n",
       "2                 ABDUL WAHAB, Zakier   \n",
       "3      ABRAHAM, Nzaliseko Christopher   \n",
       "4            ABRAHAMS, Achmat Fardiel   \n",
       "...                               ...   \n",
       "21742                   ZWENI, Ernest   \n",
       "21743                   ZWENI, Lebuti   \n",
       "21744                    ZWENI, Louis   \n",
       "21745         ZWENI, Mpantesa William   \n",
       "21746            ZWENI, Xolile Milton   \n",
       "\n",
       "                                            descriptions  \n",
       "0      An ANCYL member who was shot and severely inju...  \n",
       "1      A member of the SADF who was severely injured ...  \n",
       "2      A member of QIBLA who disappeared in September...  \n",
       "3      A COSAS supporter who was kicked and beaten wi...  \n",
       "4      Was shot and blinded in one eye by members of ...  \n",
       "...                                                  ...  \n",
       "21742  One of two South African Police (SAP) members ...  \n",
       "21743  An ANC supporter who was shot dead by a named ...  \n",
       "21744  Was shot dead in Tokoza, Transvaal, on 22 May ...  \n",
       "21745  His home was lost in an arson attack by Witdoe...  \n",
       "21746  A Transkei Defence Force (TDF) soldier who was...  \n",
       "\n",
       "[21747 rows x 2 columns]"
      ]
     },
     "execution_count": 2,
     "metadata": {},
     "output_type": "execute_result"
    }
   ],
   "source": [
    "df = pd.read_json(\"data/vol7.json\")\n",
    "df"
   ]
  },
  {
   "cell_type": "code",
   "execution_count": 9,
   "id": "75a73970-3112-4203-a6c6-f7131afb1094",
   "metadata": {},
   "outputs": [],
   "source": [
    "docs = df.descriptions.tolist()\n",
    "names = df.names.tolist()\n",
    "\n",
    "unique_names = []\n",
    "for i, name in enumerate(names):\n",
    "    unique_names.append(f\"{i:04}_{name}\")"
   ]
  },
  {
   "cell_type": "code",
   "execution_count": 10,
   "id": "ceffb08e-dc5c-410f-96ec-add1330efb01",
   "metadata": {},
   "outputs": [
    {
     "data": {
      "text/plain": [
       "'Was interrogated, tortured and killed by AZAPO members along with five other scholars in Soweto, Johannesburg, on 1 August 1986. The incident was sparked off by the burning of the house of an AZAPO leader for which the youths were believed to have been responsible. Three perpetrators were refused amnesty, and one was granted amnesty.'"
      ]
     },
     "execution_count": 10,
     "metadata": {},
     "output_type": "execute_result"
    }
   ],
   "source": [
    "docs = [d.replace(\"See \", \"\") for d in docs]\n",
    "docs = [re.sub(r\"\\([^()]*\\)\", \"\", d).replace(\" .\", \".\") for d in docs]\n",
    "docs[100]"
   ]
  },
  {
   "cell_type": "code",
   "execution_count": 13,
   "id": "62c4bd5c-72ec-487e-91af-3bbc0a2e5471",
   "metadata": {},
   "outputs": [],
   "source": [
    "# print(Top2Vec.__doc__)"
   ]
  },
  {
   "cell_type": "code",
   "execution_count": 12,
   "id": "b3e6804e-7806-42cc-84d2-82940f27476c",
   "metadata": {},
   "outputs": [
    {
     "name": "stderr",
     "output_type": "stream",
     "text": [
      "2022-07-01 11:24:58,241 - top2vec - INFO - Pre-processing documents for training\n",
      "2022-07-01 11:25:00,446 - top2vec - INFO - Creating joint document/word embedding\n",
      "2022-07-01 11:25:44,385 - top2vec - INFO - Creating lower dimension embedding of documents\n",
      "2022-07-01 11:26:21,028 - top2vec - INFO - Finding dense areas of documents\n",
      "2022-07-01 11:26:26,009 - top2vec - INFO - Finding topics\n"
     ]
    }
   ],
   "source": [
    "model = Top2Vec(docs, document_ids=unique_names, speed='fast-learn')"
   ]
  },
  {
   "cell_type": "code",
   "execution_count": 13,
   "id": "6a73b4c6-2217-41a4-a3f0-cfb84dd01d22",
   "metadata": {},
   "outputs": [
    {
     "name": "stdout",
     "output_type": "stream",
     "text": [
      "Document: 0295_BELE, Nothimba, Score: 0.9947082996368408\n",
      "-----------\n",
      "An ANC supporter who was detained at Bizana, Transkei, in June 1960, during the Pondoland revolt.\n",
      "-----------\n",
      "\n",
      "Document: 5966_MADIKIZELA, Datani, Score: 0.9945545196533203\n",
      "-----------\n",
      "Was assaulted by members of the SAP in Bizana, Transkei, during the Pondoland revolt.\n",
      "-----------\n",
      "\n",
      "Document: 8987_MBODLA, Nkosana, Score: 0.9943350553512573\n",
      "-----------\n",
      "An ANC member who was detained by the SAP in 1960 in Bizana, Transkei, for his involvement in the Pondoland Revolt. Pondoland revolt. \n",
      "-----------\n",
      "\n",
      "Document: 8805_MBEKWA, Sibunu, Score: 0.9936869144439697\n",
      "-----------\n",
      "An ANC member who was severely beaten by members of the SAP in 1960 in Bizana, Transkei, during the Pondoland revolt. Pondoland revolt. \n",
      "-----------\n",
      "\n",
      "Document: 6646_MAKA, Johannes, Score: 0.9936480522155762\n",
      "-----------\n",
      "An ANC supporter who died after he had been severely beaten by members of the SAP while in detention at Bizana, Transkei, in 1960, during the Pondoland revolt. Pondoland revolt. \n",
      "-----------\n",
      "\n",
      "Document: 21166_ZAWANA, Sandile, Score: 0.9931576251983643\n",
      "-----------\n",
      "A member of iKongo who was seriously assaulted by members of the SAP in 1960 in Bizana, Transkei, during the Pondoland revolt. iKongo. Pondoland revolt. \n",
      "-----------\n",
      "\n",
      "Document: 0384_BHENTSWANA, Magaduzela, Score: 0.9931313991546631\n",
      "-----------\n",
      "An iKongo member who was shot by members of the SAP in 1960 in Bizana, Transkei, during the Pondoland revolt.\n",
      "-----------\n",
      "\n",
      "Document: 9524_MELANE, Oliver, Score: 0.9931032061576843\n",
      "-----------\n",
      "An iKongo member who was shot dead by members of the SAP on 6 June 1960 in Flagstaff, Transkei, during the Pondoland revolt. Pondoland revolt. \n",
      "-----------\n",
      "\n",
      "Document: 16686_NYAMAMBI, Mvunyelwa, Score: 0.9927936792373657\n",
      "-----------\n",
      "An iKongo member who was detained and beaten in January 1961 in Lusikisiki, Transkei, during the Pondoland revolt. Pondoland revolt. \n",
      "-----------\n",
      "\n",
      "Document: 12292_MOYISWA, Sikinkili, Score: 0.9926958084106445\n",
      "-----------\n",
      "Was detained and tortured in June 1960 and in 1970 in Flagstaff, Transkei, because of his involvement in the Pondoland revolt. Pondoland revolt. \n",
      "-----------\n",
      "\n"
     ]
    }
   ],
   "source": [
    "documents, document_scores, document_ids = model.search_documents_by_topic(topic_num=2, num_docs=10)\n",
    "for doc, score, doc_id in zip(documents, document_scores, document_ids):\n",
    "    print(f\"Document: {doc_id}, Score: {score}\")\n",
    "    print(\"-----------\")\n",
    "    print(doc)\n",
    "    print(\"-----------\")\n",
    "    print()"
   ]
  },
  {
   "cell_type": "code",
   "execution_count": 14,
   "id": "d11eaff8-d7c0-4978-8f17-3e9fe7c92cde",
   "metadata": {},
   "outputs": [
    {
     "data": {
      "text/plain": [
       "array(['0000_AARON, Thabo Simon', '0001_ABBOTT, Montaigne',\n",
       "       '0002_ABDUL WAHAB, Zakier', ..., '21744_ZWENI, Louis',\n",
       "       '21745_ZWENI, Mpantesa William', '21746_ZWENI, Xolile Milton'],\n",
       "      dtype='<U85')"
      ]
     },
     "execution_count": 14,
     "metadata": {},
     "output_type": "execute_result"
    }
   ],
   "source": [
    "model.document_ids"
   ]
  },
  {
   "cell_type": "code",
   "execution_count": 15,
   "id": "d9b71b43-a5d1-42ab-b66a-55bfb5fb09d6",
   "metadata": {},
   "outputs": [],
   "source": [
    "import numpy as np"
   ]
  },
  {
   "cell_type": "code",
   "execution_count": 17,
   "id": "665dc5ca-1917-4991-a261-492f5b13ab1d",
   "metadata": {},
   "outputs": [
    {
     "data": {
      "text/plain": [
       "['0000_AARON_Thabo_Simon',\n",
       " '0001_ABBOTT_Montaigne',\n",
       " '0002_ABDUL_WAHAB_Zakier',\n",
       " '0003_ABRAHAM_Nzaliseko_Christopher',\n",
       " '0004_ABRAHAMS_Achmat_Fardiel',\n",
       " '0005_ABRAHAMS_Annalene_Mildred',\n",
       " '0006_ABRAHAMS_Ashraf',\n",
       " '0007_ABRAHAMS_Derrek',\n",
       " \"0008_ABRAHAMS_John_(aka_'Gaika')\",\n",
       " '0009_ABRAHAMS_Moegsien']"
      ]
     },
     "execution_count": 17,
     "metadata": {},
     "output_type": "execute_result"
    }
   ],
   "source": [
    "unique_names2 = [name.replace(\", \", \"_\").replace(\" \", \"_\") for name in unique_names]\n",
    "unique_names2[:10]"
   ]
  },
  {
   "cell_type": "code",
   "execution_count": 18,
   "id": "9456a3f4-f0fd-4230-9274-eab7b29ef2a2",
   "metadata": {},
   "outputs": [
    {
     "data": {
      "text/plain": [
       "array(['0000_AARON_Thabo_Simon', '0001_ABBOTT_Montaigne',\n",
       "       '0002_ABDUL_WAHAB_Zakier', ..., '21744_ZWENI_Louis',\n",
       "       '21745_ZWENI_Mpantesa_William', '21746_ZWENI_Xolile_Milton'],\n",
       "      dtype='<U84')"
      ]
     },
     "execution_count": 18,
     "metadata": {},
     "output_type": "execute_result"
    }
   ],
   "source": [
    "names_array = np.asarray(unique_names2)\n",
    "names_array"
   ]
  },
  {
   "cell_type": "code",
   "execution_count": 19,
   "id": "1b9f3952-69b5-4514-9491-d77a6276d3e4",
   "metadata": {},
   "outputs": [],
   "source": [
    "model.document_ids = names_array"
   ]
  },
  {
   "cell_type": "code",
   "execution_count": 20,
   "id": "2750dd55-7997-4c0d-a637-03db97907df5",
   "metadata": {},
   "outputs": [
    {
     "data": {
      "text/plain": [
       "array(['0000_AARON_Thabo_Simon', '0001_ABBOTT_Montaigne',\n",
       "       '0002_ABDUL_WAHAB_Zakier', ..., '21744_ZWENI_Louis',\n",
       "       '21745_ZWENI_Mpantesa_William', '21746_ZWENI_Xolile_Milton'],\n",
       "      dtype='<U84')"
      ]
     },
     "execution_count": 20,
     "metadata": {},
     "output_type": "execute_result"
    }
   ],
   "source": [
    "model.document_ids"
   ]
  },
  {
   "cell_type": "code",
   "execution_count": 21,
   "id": "8266d119-c9d0-4da6-ad7e-c27b05097960",
   "metadata": {},
   "outputs": [
    {
     "name": "stdout",
     "output_type": "stream",
     "text": [
      "Document: 0295_BELE_Nothimba, Score: 0.9947082996368408\n",
      "-----------\n",
      "An ANC supporter who was detained at Bizana, Transkei, in June 1960, during the Pondoland revolt.\n",
      "-----------\n",
      "\n",
      "Document: 5966_MADIKIZELA_Datani, Score: 0.9945545196533203\n",
      "-----------\n",
      "Was assaulted by members of the SAP in Bizana, Transkei, during the Pondoland revolt.\n",
      "-----------\n",
      "\n",
      "Document: 8987_MBODLA_Nkosana, Score: 0.9943350553512573\n",
      "-----------\n",
      "An ANC member who was detained by the SAP in 1960 in Bizana, Transkei, for his involvement in the Pondoland Revolt. Pondoland revolt. \n",
      "-----------\n",
      "\n",
      "Document: 8805_MBEKWA_Sibunu, Score: 0.9936869144439697\n",
      "-----------\n",
      "An ANC member who was severely beaten by members of the SAP in 1960 in Bizana, Transkei, during the Pondoland revolt. Pondoland revolt. \n",
      "-----------\n",
      "\n",
      "Document: 6646_MAKA_Johannes, Score: 0.9936480522155762\n",
      "-----------\n",
      "An ANC supporter who died after he had been severely beaten by members of the SAP while in detention at Bizana, Transkei, in 1960, during the Pondoland revolt. Pondoland revolt. \n",
      "-----------\n",
      "\n",
      "Document: 21166_ZAWANA_Sandile, Score: 0.9931576251983643\n",
      "-----------\n",
      "A member of iKongo who was seriously assaulted by members of the SAP in 1960 in Bizana, Transkei, during the Pondoland revolt. iKongo. Pondoland revolt. \n",
      "-----------\n",
      "\n",
      "Document: 0384_BHENTSWANA_Magaduzela, Score: 0.9931313991546631\n",
      "-----------\n",
      "An iKongo member who was shot by members of the SAP in 1960 in Bizana, Transkei, during the Pondoland revolt.\n",
      "-----------\n",
      "\n",
      "Document: 9524_MELANE_Oliver, Score: 0.9931032061576843\n",
      "-----------\n",
      "An iKongo member who was shot dead by members of the SAP on 6 June 1960 in Flagstaff, Transkei, during the Pondoland revolt. Pondoland revolt. \n",
      "-----------\n",
      "\n",
      "Document: 16686_NYAMAMBI_Mvunyelwa, Score: 0.9927936792373657\n",
      "-----------\n",
      "An iKongo member who was detained and beaten in January 1961 in Lusikisiki, Transkei, during the Pondoland revolt. Pondoland revolt. \n",
      "-----------\n",
      "\n",
      "Document: 12292_MOYISWA_Sikinkili, Score: 0.9926958084106445\n",
      "-----------\n",
      "Was detained and tortured in June 1960 and in 1970 in Flagstaff, Transkei, because of his involvement in the Pondoland revolt. Pondoland revolt. \n",
      "-----------\n",
      "\n"
     ]
    }
   ],
   "source": [
    "documents, document_scores, document_ids = model.search_documents_by_topic(topic_num=2, num_docs=10)\n",
    "for doc, score, doc_id in zip(documents, document_scores, document_ids):\n",
    "    print(f\"Document: {doc_id}, Score: {score}\")\n",
    "    print(\"-----------\")\n",
    "    print(doc)\n",
    "    print(\"-----------\")\n",
    "    print()"
   ]
  },
  {
   "cell_type": "code",
   "execution_count": null,
   "id": "60c793eb-f33f-4a6a-acf9-a05ee4048c36",
   "metadata": {},
   "outputs": [],
   "source": []
  }
 ],
 "metadata": {
  "kernelspec": {
   "display_name": "Python 3 (ipykernel)",
   "language": "python",
   "name": "python3"
  },
  "language_info": {
   "codemirror_mode": {
    "name": "ipython",
    "version": 3
   },
   "file_extension": ".py",
   "mimetype": "text/x-python",
   "name": "python",
   "nbconvert_exporter": "python",
   "pygments_lexer": "ipython3",
   "version": "3.8.5"
  }
 },
 "nbformat": 4,
 "nbformat_minor": 5
}
