{
 "cells": [
  {
   "cell_type": "code",
   "execution_count": 17,
   "id": "b3200964-ab21-40d9-986a-c5ef8a8cfbf7",
   "metadata": {},
   "outputs": [],
   "source": [
    "import pandas as pd"
   ]
  },
  {
   "cell_type": "code",
   "execution_count": 18,
   "id": "6455f89c-03ff-4f10-aedc-405c33a52b44",
   "metadata": {},
   "outputs": [
    {
     "data": {
      "text/html": [
       "<div>\n",
       "<style scoped>\n",
       "    .dataframe tbody tr th:only-of-type {\n",
       "        vertical-align: middle;\n",
       "    }\n",
       "\n",
       "    .dataframe tbody tr th {\n",
       "        vertical-align: top;\n",
       "    }\n",
       "\n",
       "    .dataframe thead th {\n",
       "        text-align: right;\n",
       "    }\n",
       "</style>\n",
       "<table border=\"1\" class=\"dataframe\">\n",
       "  <thead>\n",
       "    <tr style=\"text-align: right;\">\n",
       "      <th></th>\n",
       "      <th>names</th>\n",
       "      <th>descriptions</th>\n",
       "    </tr>\n",
       "  </thead>\n",
       "  <tbody>\n",
       "    <tr>\n",
       "      <th>0</th>\n",
       "      <td>AARON, Thabo Simon</td>\n",
       "      <td>An ANCYL member who was shot and severely inju...</td>\n",
       "    </tr>\n",
       "    <tr>\n",
       "      <th>1</th>\n",
       "      <td>ABBOTT, Montaigne</td>\n",
       "      <td>A member of the SADF who was severely injured ...</td>\n",
       "    </tr>\n",
       "    <tr>\n",
       "      <th>2</th>\n",
       "      <td>ABDUL WAHAB, Zakier</td>\n",
       "      <td>A member of QIBLA who disappeared in September...</td>\n",
       "    </tr>\n",
       "    <tr>\n",
       "      <th>3</th>\n",
       "      <td>ABRAHAM, Nzaliseko Christopher</td>\n",
       "      <td>A COSAS supporter who was kicked and beaten wi...</td>\n",
       "    </tr>\n",
       "    <tr>\n",
       "      <th>4</th>\n",
       "      <td>ABRAHAMS, Achmat Fardiel</td>\n",
       "      <td>Was shot and blinded in one eye by members of ...</td>\n",
       "    </tr>\n",
       "    <tr>\n",
       "      <th>...</th>\n",
       "      <td>...</td>\n",
       "      <td>...</td>\n",
       "    </tr>\n",
       "    <tr>\n",
       "      <th>21742</th>\n",
       "      <td>ZWENI, Ernest</td>\n",
       "      <td>One of two South African Police (SAP) members ...</td>\n",
       "    </tr>\n",
       "    <tr>\n",
       "      <th>21743</th>\n",
       "      <td>ZWENI, Lebuti</td>\n",
       "      <td>An ANC supporter who was shot dead by a named ...</td>\n",
       "    </tr>\n",
       "    <tr>\n",
       "      <th>21744</th>\n",
       "      <td>ZWENI, Louis</td>\n",
       "      <td>Was shot dead in Tokoza, Transvaal, on 22 May ...</td>\n",
       "    </tr>\n",
       "    <tr>\n",
       "      <th>21745</th>\n",
       "      <td>ZWENI, Mpantesa William</td>\n",
       "      <td>His home was lost in an arson attack by Witdoe...</td>\n",
       "    </tr>\n",
       "    <tr>\n",
       "      <th>21746</th>\n",
       "      <td>ZWENI, Xolile Milton</td>\n",
       "      <td>A Transkei Defence Force (TDF) soldier who was...</td>\n",
       "    </tr>\n",
       "  </tbody>\n",
       "</table>\n",
       "<p>21747 rows × 2 columns</p>\n",
       "</div>"
      ],
      "text/plain": [
       "                                names  \\\n",
       "0                  AARON, Thabo Simon   \n",
       "1                   ABBOTT, Montaigne   \n",
       "2                 ABDUL WAHAB, Zakier   \n",
       "3      ABRAHAM, Nzaliseko Christopher   \n",
       "4            ABRAHAMS, Achmat Fardiel   \n",
       "...                               ...   \n",
       "21742                   ZWENI, Ernest   \n",
       "21743                   ZWENI, Lebuti   \n",
       "21744                    ZWENI, Louis   \n",
       "21745         ZWENI, Mpantesa William   \n",
       "21746            ZWENI, Xolile Milton   \n",
       "\n",
       "                                            descriptions  \n",
       "0      An ANCYL member who was shot and severely inju...  \n",
       "1      A member of the SADF who was severely injured ...  \n",
       "2      A member of QIBLA who disappeared in September...  \n",
       "3      A COSAS supporter who was kicked and beaten wi...  \n",
       "4      Was shot and blinded in one eye by members of ...  \n",
       "...                                                  ...  \n",
       "21742  One of two South African Police (SAP) members ...  \n",
       "21743  An ANC supporter who was shot dead by a named ...  \n",
       "21744  Was shot dead in Tokoza, Transvaal, on 22 May ...  \n",
       "21745  His home was lost in an arson attack by Witdoe...  \n",
       "21746  A Transkei Defence Force (TDF) soldier who was...  \n",
       "\n",
       "[21747 rows x 2 columns]"
      ]
     },
     "execution_count": 18,
     "metadata": {},
     "output_type": "execute_result"
    }
   ],
   "source": [
    "df = pd.read_json(\"data/vol7.json\")\n",
    "df"
   ]
  },
  {
   "cell_type": "code",
   "execution_count": 19,
   "id": "ffdc3d9a-e72b-4ad3-8b31-61b67747bc89",
   "metadata": {},
   "outputs": [
    {
     "data": {
      "text/plain": [
       "\"An ANCYL member who was shot and severely injured by SAP members at Lephoi, Bethulie, Orange Free State (OFS) on 17 April 1991. Police opened fire on a gathering at an ANC supporter's house following a dispute between two neighbours, one of whom was linked to the ANC and the other to the SAP and a councillor.\""
      ]
     },
     "execution_count": 19,
     "metadata": {},
     "output_type": "execute_result"
    }
   ],
   "source": [
    "docs = df.descriptions.tolist()\n",
    "docs[0]"
   ]
  },
  {
   "cell_type": "code",
   "execution_count": 20,
   "id": "1b076124-eaae-4677-aa99-2c5219a87590",
   "metadata": {},
   "outputs": [],
   "source": [
    "from top2vec import Top2Vec"
   ]
  },
  {
   "cell_type": "code",
   "execution_count": 21,
   "id": "2af545e3-474c-4be3-8910-eec70cb6e8a7",
   "metadata": {},
   "outputs": [
    {
     "name": "stderr",
     "output_type": "stream",
     "text": [
      "2022-05-03 13:43:46,332 - top2vec - INFO - Pre-processing documents for training\n",
      "2022-05-03 13:43:47,980 - top2vec - INFO - Creating joint document/word embedding\n",
      "2022-05-03 13:44:24,486 - top2vec - INFO - Creating lower dimension embedding of documents\n",
      "2022-05-03 13:44:32,712 - top2vec - INFO - Finding dense areas of documents\n",
      "2022-05-03 13:44:35,024 - top2vec - INFO - Finding topics\n"
     ]
    }
   ],
   "source": [
    "model = Top2Vec(docs)"
   ]
  },
  {
   "cell_type": "code",
   "execution_count": 22,
   "id": "e8e185a1-4f19-4102-bd6a-099dc165e850",
   "metadata": {},
   "outputs": [
    {
     "name": "stdout",
     "output_type": "stream",
     "text": [
      "[705 336 231 230 215 208 206 204 203 199 199 199 188 186 178 175 171 166\n",
      " 164 164 157 154 151 147 143 138 133 132 131 130 126 124 124 122 122 119\n",
      " 119 119 118 118 115 114 113 112 112 111 110 109 109 107 106 103 103 102\n",
      " 101 100 100  97  95  95  95  94  93  92  92  91  91  90  90  89  89  88\n",
      "  88  87  87  87  87  86  85  83  83  83  83  82  82  82  81  81  81  80\n",
      "  80  80  79  78  78  78  77  77  77  76  76  76  76  76  75  75  75  75\n",
      "  74  74  73  73  72  72  71  70  70  68  68  68  68  68  66  65  65  65\n",
      "  65  65  64  64  64  63  62  62  62  61  61  61  61  61  60  60  59  59\n",
      "  59  58  58  58  58  57  57  57  56  56  56  56  55  55  55  55  55  55\n",
      "  55  54  54  54  54  54  54  53  53  53  52  52  52  52  51  51  51  51\n",
      "  50  50  50  49  49  49  49  49  49  49  49  49  49  49  48  48  48  48\n",
      "  48  48  48  48  47  47  47  47  46  46  45  45  45  45  44  44  44  44\n",
      "  44  44  44  44  44  44  44  43  43  43  42  41  40  40  40  39  39  39\n",
      "  39  39  39  39  38  38  37  37  37  37  37  36  36  36  35  34  34  34\n",
      "  33  33  33  33  33  33  32  32  31  31  31  31  30  30  29  29  29  29\n",
      "  29  28  28  27  27  27  27  27  27  26  25  25  24  24  23  22  21  20\n",
      "  16]\n"
     ]
    }
   ],
   "source": [
    "topic_sizes, topic_nums = model.get_topic_sizes()\n",
    "print (topic_sizes)"
   ]
  },
  {
   "cell_type": "code",
   "execution_count": 23,
   "id": "c1543260-b4c0-4e22-99e0-c8ee649d2daf",
   "metadata": {},
   "outputs": [
    {
     "name": "stdout",
     "output_type": "stream",
     "text": [
      "[  0   1   2   3   4   5   6   7   8   9  10  11  12  13  14  15  16  17\n",
      "  18  19  20  21  22  23  24  25  26  27  28  29  30  31  32  33  34  35\n",
      "  36  37  38  39  40  41  42  43  44  45  46  47  48  49  50  51  52  53\n",
      "  54  55  56  57  58  59  60  61  62  63  64  65  66  67  68  69  70  71\n",
      "  72  73  74  75  76  77  78  79  80  81  82  83  84  85  86  87  88  89\n",
      "  90  91  92  93  94  95  96  97  98  99 100 101 102 103 104 105 106 107\n",
      " 108 109 110 111 112 113 114 115 116 117 118 119 120 121 122 123 124 125\n",
      " 126 127 128 129 130 131 132 133 134 135 136 137 138 139 140 141 142 143\n",
      " 144 145 146 147 148 149 150 151 152 153 154 155 156 157 158 159 160 161\n",
      " 162 163 164 165 166 167 168 169 170 171 172 173 174 175 176 177 178 179\n",
      " 180 181 182 183 184 185 186 187 188 189 190 191 192 193 194 195 196 197\n",
      " 198 199 200 201 202 203 204 205 206 207 208 209 210 211 212 213 214 215\n",
      " 216 217 218 219 220 221 222 223 224 225 226 227 228 229 230 231 232 233\n",
      " 234 235 236 237 238 239 240 241 242 243 244 245 246 247 248 249 250 251\n",
      " 252 253 254 255 256 257 258 259 260 261 262 263 264 265 266 267 268 269\n",
      " 270 271 272 273 274 275 276 277 278 279 280 281 282 283 284 285 286 287\n",
      " 288]\n"
     ]
    }
   ],
   "source": [
    "print (topic_nums)"
   ]
  },
  {
   "cell_type": "code",
   "execution_count": 28,
   "id": "4eb06ee5-a558-44f8-af6c-111736446b08",
   "metadata": {},
   "outputs": [],
   "source": [
    "topic_words, word_scores, topic_nums = model.get_topics(1)"
   ]
  },
  {
   "cell_type": "code",
   "execution_count": 29,
   "id": "f120463c-bb70-4595-a780-f8f0c5738f71",
   "metadata": {},
   "outputs": [
    {
     "name": "stdout",
     "output_type": "stream",
     "text": [
      "0\n",
      "Words: ['sonkombo' 'ndwedwe' 'chimora' 'arson' 'ekuthuleni' 'whose' 'down'\n",
      " 'burnt' 'intense' 'possessions' 'house' 'durban' 'kwazulu' 'inanda' 'red'\n",
      " 'attacks' 'had' 'destroyed' 'continuing' 'stronghold' 'green' 'near'\n",
      " 'bhambayi' 'ongoing' 'eshowe' 'supporters' 'home' 'her' 'conflict'\n",
      " 'intensifying' 'area' 'enseleni' 'run' 'ifp' 'kwamashu' 'lost'\n",
      " 'magabheni' 'she' 'between' 'march' 'umlazi' 'nqutu' 'see' 'factions'\n",
      " 'political' 'richmond' 'lindelani' 'stolen' 'homestead' 'richards']\n"
     ]
    }
   ],
   "source": [
    "for words, scores, num in zip(topic_words, word_scores, topic_nums):\n",
    "    print (num)\n",
    "    print (f\"Words: {words}\")"
   ]
  },
  {
   "cell_type": "code",
   "execution_count": 30,
   "id": "9be21372-ee7b-4c33-8a3b-957b80083df3",
   "metadata": {},
   "outputs": [
    {
     "name": "stdout",
     "output_type": "stream",
     "text": [
      "Document: 4729, Score: 0.9770890474319458\n",
      "-----------\n",
      "An ANC supporter whose house was burnt down in an arson attack in February 1994 at Sonkombo, Ndwedwe, KwaZulu, near Durban, in intense political conflict in the area. See Sonkombo arson attacks. \n",
      "-----------\n",
      "\n",
      "Document: 1025, Score: 0.9690396785736084\n",
      "-----------\n",
      "An IFP supporter whose home was burnt down at Sonkombo, Ndwedwe, KwaZulu, near Durban, on 16 March 1994 in intense conflict between IFP and ANC supporters. See Sonkombo arson attacks.\n",
      "-----------\n",
      "\n",
      "Document: 4508, Score: 0.9685753583908081\n",
      "-----------\n",
      "An ANC supporter whose house was burnt down by IFP supporters on 20 March 1994 at Sonkombo, Ndwedwe, KwaZulu, near Durban, in intense political conflict in the area. See Sonkombo arson attacks. \n",
      "-----------\n",
      "\n",
      "Document: 4644, Score: 0.9668073654174805\n",
      "-----------\n",
      "An ANC supporter whose house was burnt down by IFP supporters on 16 March 1994 at Sonkombo, Ndwedwe, KwaZulu, near Durban, in intense political conflict in the area. See Sonkombo arson attacks. \n",
      "-----------\n",
      "\n",
      "Document: 4600, Score: 0.9648160934448242\n",
      "-----------\n",
      "An ANC supporter whose house was burnt down by IFP supporters on 16 March 1994 at Sonkombo, Ndwedwe, KwaZulu, near Durban, in intense political conflict in the area. See Sonkombo arson attacks. \n",
      "-----------\n",
      "\n",
      "Document: 5624, Score: 0.9644435048103333\n",
      "-----------\n",
      "An ANC supporter who had his home burnt down by IFP supporters on 16 March 1994 at Sonkombo, Ndwedwe, KwaZulu, near Durban, in intense political conflict in the area. See Sonkombo arson attacks. \n",
      "-----------\n",
      "\n",
      "Document: 4707, Score: 0.9638468027114868\n",
      "-----------\n",
      "An ANC supporter whose house was burnt down by IFP supporters on 16 March 1994 at Sonkombo, Ndwedwe, KwaZulu, near Durban, in intense political conflict in the area. See Sonkombo arson attacks.\n",
      "-----------\n",
      "\n",
      "Document: 504, Score: 0.9632097482681274\n",
      "-----------\n",
      "Had her house burnt down by IFP supporters on 16 March 1994 at Sonkombo, Ndwedwe, KwaZulu, near Durban, in intense political conflict in the area. See Sonkombo arson attacks.\n",
      "-----------\n",
      "\n",
      "Document: 740, Score: 0.9629842042922974\n",
      "-----------\n",
      "His house was burnt down by IFP supporters on 20 March 1994 at Sonkombo, Ndwedwe, KwaZulu, near Durban, in intense political conflict in the area. See Sonkombo arson attacks.\n",
      "-----------\n",
      "\n",
      "Document: 2170, Score: 0.9621144533157349\n",
      "-----------\n",
      "An ANC supporter whose house was burnt down by IFP supporters on 20 March 1994 at Sonkombo, Ndwedwe, KwaZulu, near Durban. See Sonkombo arson attacks.\n",
      "-----------\n",
      "\n"
     ]
    }
   ],
   "source": [
    "documents, document_scores, document_ids = model.search_documents_by_topic(topic_num=0, num_docs=10)\n",
    "for doc, score, doc_id in zip(documents, document_scores, document_ids):\n",
    "    print(f\"Document: {doc_id}, Score: {score}\")\n",
    "    print(\"-----------\")\n",
    "    print(doc)\n",
    "    print(\"-----------\")\n",
    "    print()"
   ]
  },
  {
   "cell_type": "code",
   "execution_count": null,
   "id": "4839454f-a16d-4123-bad8-e9d44a5d219d",
   "metadata": {},
   "outputs": [],
   "source": []
  }
 ],
 "metadata": {
  "kernelspec": {
   "display_name": "Python 3 (ipykernel)",
   "language": "python",
   "name": "python3"
  },
  "language_info": {
   "codemirror_mode": {
    "name": "ipython",
    "version": 3
   },
   "file_extension": ".py",
   "mimetype": "text/x-python",
   "name": "python",
   "nbconvert_exporter": "python",
   "pygments_lexer": "ipython3",
   "version": "3.8.5"
  }
 },
 "nbformat": 4,
 "nbformat_minor": 5
}
