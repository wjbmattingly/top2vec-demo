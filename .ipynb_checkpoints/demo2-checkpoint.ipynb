{
 "cells": [
  {
   "cell_type": "code",
   "execution_count": 1,
   "id": "50a6acc1-d920-47bc-a200-046ac8a790cd",
   "metadata": {},
   "outputs": [],
   "source": [
    "import json\n",
    "from top2vec import Top2Vec"
   ]
  },
  {
   "cell_type": "code",
   "execution_count": 3,
   "id": "21f21072-49b7-47a2-93fb-a9216a887dfd",
   "metadata": {},
   "outputs": [
    {
     "data": {
      "text/plain": [
       "7"
      ]
     },
     "execution_count": 3,
     "metadata": {},
     "output_type": "execute_result"
    }
   ],
   "source": [
    "with open (\"data/articles.txt\", \"r\", encoding=\"utf-8\") as f:\n",
    "    documents = f.read().split(\"\\n\\n\")\n",
    "len(documents)"
   ]
  },
  {
   "cell_type": "code",
   "execution_count": null,
   "id": "f438cd14-e0c5-466a-be9b-9a1a96fbd47b",
   "metadata": {},
   "outputs": [
    {
     "name": "stderr",
     "output_type": "stream",
     "text": [
      "2022-05-02 17:33:03,310 - top2vec - INFO - Pre-processing documents for training\n",
      "2022-05-02 17:33:03,314 - top2vec - INFO - Creating joint document/word embedding\n",
      "Exception in thread Thread-21:\n",
      "Traceback (most recent call last):\n",
      "  File \"C:\\Users\\wma22\\anaconda3\\envs\\top2vec\\lib\\threading.py\", line 926, in _bootstrap_inner\n",
      "    self.run()\n",
      "  File \"C:\\Users\\wma22\\anaconda3\\envs\\top2vec\\lib\\threading.py\", line 870, in run\n",
      "    self._target(*self._args, **self._kwargs)\n",
      "  File \"C:\\Users\\wma22\\anaconda3\\envs\\top2vec\\lib\\site-packages\\gensim\\models\\word2vec.py\", line 1162, in _worker_loop\n",
      "    tally, raw_tally = self._do_train_job(data_iterable, alpha, thread_private_mem)\n",
      "  File \"C:\\Users\\wma22\\anaconda3\\envs\\top2vec\\lib\\site-packages\\gensim\\models\\doc2vec.py\", line 424, in _do_train_job\n",
      "    doctag_vectors=doctag_vectors, doctags_lockf=doctags_lockf\n",
      "  File \"gensim\\models\\doc2vec_inner.pyx\", line 358, in gensim.models.doc2vec_inner.train_document_dbow\n",
      "TypeError: Cannot convert list to numpy.ndarray\n",
      "\n"
     ]
    }
   ],
   "source": [
    "model = Top2Vec(documents)"
   ]
  },
  {
   "cell_type": "code",
   "execution_count": 8,
   "id": "1ef5b9ce-23e5-4612-832e-eabee3106da1",
   "metadata": {},
   "outputs": [
    {
     "data": {
      "text/plain": [
       "278"
      ]
     },
     "execution_count": 8,
     "metadata": {},
     "output_type": "execute_result"
    }
   ],
   "source": [
    "model.get_num_topics()"
   ]
  },
  {
   "cell_type": "code",
   "execution_count": 9,
   "id": "81519d9d-7633-4c80-a0ed-1e92e9173a1e",
   "metadata": {},
   "outputs": [],
   "source": [
    "topic_sizes, topic_nums = model.get_topic_sizes()"
   ]
  },
  {
   "cell_type": "code",
   "execution_count": 10,
   "id": "5f30e409-4600-4fc6-a26f-9fb8cbd4e4bf",
   "metadata": {},
   "outputs": [
    {
     "data": {
      "text/plain": [
       "array([751, 339, 297, 264, 246, 230, 229, 225, 208, 202, 200, 193, 190,\n",
       "       189, 186, 183, 182, 179, 163, 158, 155, 140, 136, 135, 132, 131,\n",
       "       129, 128, 128, 122, 115, 115, 115, 114, 114, 114, 112, 112, 112,\n",
       "       112, 111, 111, 109, 108, 108, 104, 104, 102, 102, 102, 102, 102,\n",
       "       101, 100, 100,  98,  97,  96,  95,  93,  93,  93,  90,  90,  89,\n",
       "        89,  89,  88,  87,  87,  86,  86,  85,  85,  85,  83,  83,  83,\n",
       "        83,  82,  82,  82,  82,  81,  81,  81,  80,  79,  79,  79,  79,\n",
       "        78,  78,  78,  78,  77,  76,  76,  76,  75,  75,  75,  75,  75,\n",
       "        75,  74,  73,  73,  73,  73,  72,  72,  72,  72,  71,  70,  70,\n",
       "        70,  69,  69,  69,  69,  69,  68,  68,  68,  67,  67,  67,  67,\n",
       "        66,  66,  66,  65,  64,  64,  64,  64,  64,  64,  63,  63,  63,\n",
       "        63,  63,  63,  62,  62,  62,  62,  61,  61,  61,  60,  60,  59,\n",
       "        59,  59,  59,  58,  58,  57,  57,  57,  57,  56,  56,  55,  55,\n",
       "        55,  54,  54,  54,  54,  54,  54,  54,  53,  53,  53,  53,  53,\n",
       "        53,  52,  52,  52,  52,  52,  51,  51,  51,  51,  51,  51,  50,\n",
       "        50,  50,  50,  49,  49,  49,  49,  49,  49,  49,  49,  48,  48,\n",
       "        47,  47,  47,  47,  46,  46,  46,  46,  46,  46,  45,  45,  45,\n",
       "        44,  44,  44,  44,  44,  43,  43,  42,  42,  42,  42,  42,  42,\n",
       "        42,  42,  41,  41,  41,  41,  40,  40,  39,  38,  38,  38,  37,\n",
       "        37,  37,  36,  36,  36,  35,  35,  35,  35,  35,  33,  32,  32,\n",
       "        32,  31,  31,  30,  30,  28,  28,  27,  27,  25,  25,  25,  24,\n",
       "        23,  23,  20,  19,  17], dtype=int64)"
      ]
     },
     "execution_count": 10,
     "metadata": {},
     "output_type": "execute_result"
    }
   ],
   "source": [
    "topic_sizes"
   ]
  },
  {
   "cell_type": "code",
   "execution_count": 14,
   "id": "816d82da-e92e-46f7-b030-8cd8be9b05f1",
   "metadata": {},
   "outputs": [],
   "source": [
    "topic_words, word_scores, topic_scores, topic_nums = model.search_topics(keywords=[\"police\"], num_topics=5)"
   ]
  },
  {
   "cell_type": "code",
   "execution_count": 17,
   "id": "41ca651d-ee2a-4a27-81ea-96bef488716c",
   "metadata": {},
   "outputs": [
    {
     "data": {
      "text/plain": [
       "array([ 89,  60, 118,  23, 189], dtype=int64)"
      ]
     },
     "execution_count": 17,
     "metadata": {},
     "output_type": "execute_result"
    }
   ],
   "source": [
    "topic_nums"
   ]
  },
  {
   "cell_type": "code",
   "execution_count": 33,
   "id": "14ca2d7c-6eae-45fb-8116-440d3ecfbda1",
   "metadata": {},
   "outputs": [
    {
     "name": "stdout",
     "output_type": "stream",
     "text": [
      "Document: 16581, Score: 0.9835174679756165\n",
      "-----------\n",
      "An ANC supporter who was shot and injured in Ndaleni, Richmond, Natal, by IFP supporters on 2 July 1993. Eight people were killed in this attack on the Nxele homestead. \n",
      "-----------\n",
      "\n",
      "Document: 16583, Score: 0.9764489531517029\n",
      "-----------\n",
      "Was shot dead in Ndaleni, Richmond, Natal, by IFP supporters during political conflict on 2 July 1993. Eight people were killed in this attack on the Nxele homestead. \n",
      "-----------\n",
      "\n",
      "Document: 16586, Score: 0.9758604764938354\n",
      "-----------\n",
      "An ANC supporter who was severely injured in Ndaleni, Richmond, Natal, by IFP supporters during political conflict on 2 July 1993. Eight people were killed in this attack on the Nxele homestead. \n",
      "-----------\n",
      "\n",
      "Document: 16584, Score: 0.9744593501091003\n",
      "-----------\n",
      "Was shot dead in Ndaleni, Richmond, Natal, by IFP supporters during political conflict on 2 July 1993. Eight people were killed in this attack on the Nxele homestead. \n",
      "-----------\n",
      "\n",
      "Document: 16585, Score: 0.9728919267654419\n",
      "-----------\n",
      "Was injured in Ndaleni, Richmond, Natal, by IFP supporters during political conflict on 2 July 1993. Eight people were killed in this attack on the Nxele homestead.. \n",
      "-----------\n",
      "\n",
      "Document: 16557, Score: 0.972556471824646\n",
      "-----------\n",
      "He had his home in Ndaleni, Richmond, Natal, destroyed by IFP supporters during political conflict on 2 July 1993. Eight people were killed in this attack on the Nxele homestead. \n",
      "-----------\n",
      "\n",
      "Document: 16573, Score: 0.969101071357727\n",
      "-----------\n",
      "An ANC supporter who had her home in Ndaleni, Richmond, Natal, destroyed by IFP supporters on 2 July 1993. Eight people were killed in this attack on the Nxele homestead \n",
      "-----------\n",
      "\n",
      "Document: 16572, Score: 0.9629691243171692\n",
      "-----------\n",
      "An ANC supporter who had her home in Ndaleni, Richmond, Natal, destroyed by IFP supporters on 2 July 1993. Eight people were killed in this attack on the Nxele homestead. \n",
      "-----------\n",
      "\n",
      "Document: 16562, Score: 0.9620411992073059\n",
      "-----------\n",
      "An ANC supporter who was shot and injured in Ndaleni, Richmond, Natal, by IFP supporters on 2 July 1993. Eight people were killed in this attack on the Nxele homestead. \n",
      "-----------\n",
      "\n",
      "Document: 16564, Score: 0.9534596800804138\n",
      "-----------\n",
      "An ANC supporter who was shot dead in Ndaleni, Richmond, Natal, by IFP supporters on 2 July 1993. Eight people were killed in this attack on the Nxele homestead. \n",
      "-----------\n",
      "\n"
     ]
    }
   ],
   "source": [
    "documents, document_scores, document_ids = model.search_documents_by_topic(topic_num=277, num_docs=10)\n",
    "for doc, score, doc_id in zip(documents, document_scores, document_ids):\n",
    "    print(f\"Document: {doc_id}, Score: {score}\")\n",
    "    print(\"-----------\")\n",
    "    print(doc)\n",
    "    print(\"-----------\")\n",
    "    print()"
   ]
  },
  {
   "cell_type": "code",
   "execution_count": null,
   "id": "6413f437-62b8-49d6-90f0-1cacc9b630ca",
   "metadata": {},
   "outputs": [],
   "source": []
  }
 ],
 "metadata": {
  "kernelspec": {
   "display_name": "Python 3 (ipykernel)",
   "language": "python",
   "name": "python3"
  },
  "language_info": {
   "codemirror_mode": {
    "name": "ipython",
    "version": 3
   },
   "file_extension": ".py",
   "mimetype": "text/x-python",
   "name": "python",
   "nbconvert_exporter": "python",
   "pygments_lexer": "ipython3",
   "version": "3.7.13"
  }
 },
 "nbformat": 4,
 "nbformat_minor": 5
}
