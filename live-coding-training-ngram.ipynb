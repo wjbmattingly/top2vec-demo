{
 "cells": [
  {
   "cell_type": "code",
   "execution_count": 8,
   "id": "b9f3d518-eb56-4979-8f24-5bbbe6840807",
   "metadata": {},
   "outputs": [],
   "source": [
    "import pandas as pd\n",
    "import re\n",
    "from top2vec import Top2Vec"
   ]
  },
  {
   "cell_type": "code",
   "execution_count": 9,
   "id": "3ede8bca-7c53-4bfc-8ac7-41a37f5c7157",
   "metadata": {},
   "outputs": [
    {
     "data": {
      "text/html": [
       "<div>\n",
       "<style scoped>\n",
       "    .dataframe tbody tr th:only-of-type {\n",
       "        vertical-align: middle;\n",
       "    }\n",
       "\n",
       "    .dataframe tbody tr th {\n",
       "        vertical-align: top;\n",
       "    }\n",
       "\n",
       "    .dataframe thead th {\n",
       "        text-align: right;\n",
       "    }\n",
       "</style>\n",
       "<table border=\"1\" class=\"dataframe\">\n",
       "  <thead>\n",
       "    <tr style=\"text-align: right;\">\n",
       "      <th></th>\n",
       "      <th>names</th>\n",
       "      <th>descriptions</th>\n",
       "    </tr>\n",
       "  </thead>\n",
       "  <tbody>\n",
       "    <tr>\n",
       "      <th>0</th>\n",
       "      <td>AARON, Thabo Simon</td>\n",
       "      <td>An ANCYL member who was shot and severely inju...</td>\n",
       "    </tr>\n",
       "    <tr>\n",
       "      <th>1</th>\n",
       "      <td>ABBOTT, Montaigne</td>\n",
       "      <td>A member of the SADF who was severely injured ...</td>\n",
       "    </tr>\n",
       "    <tr>\n",
       "      <th>2</th>\n",
       "      <td>ABDUL WAHAB, Zakier</td>\n",
       "      <td>A member of QIBLA who disappeared in September...</td>\n",
       "    </tr>\n",
       "    <tr>\n",
       "      <th>3</th>\n",
       "      <td>ABRAHAM, Nzaliseko Christopher</td>\n",
       "      <td>A COSAS supporter who was kicked and beaten wi...</td>\n",
       "    </tr>\n",
       "    <tr>\n",
       "      <th>4</th>\n",
       "      <td>ABRAHAMS, Achmat Fardiel</td>\n",
       "      <td>Was shot and blinded in one eye by members of ...</td>\n",
       "    </tr>\n",
       "    <tr>\n",
       "      <th>...</th>\n",
       "      <td>...</td>\n",
       "      <td>...</td>\n",
       "    </tr>\n",
       "    <tr>\n",
       "      <th>21742</th>\n",
       "      <td>ZWENI, Ernest</td>\n",
       "      <td>One of two South African Police (SAP) members ...</td>\n",
       "    </tr>\n",
       "    <tr>\n",
       "      <th>21743</th>\n",
       "      <td>ZWENI, Lebuti</td>\n",
       "      <td>An ANC supporter who was shot dead by a named ...</td>\n",
       "    </tr>\n",
       "    <tr>\n",
       "      <th>21744</th>\n",
       "      <td>ZWENI, Louis</td>\n",
       "      <td>Was shot dead in Tokoza, Transvaal, on 22 May ...</td>\n",
       "    </tr>\n",
       "    <tr>\n",
       "      <th>21745</th>\n",
       "      <td>ZWENI, Mpantesa William</td>\n",
       "      <td>His home was lost in an arson attack by Witdoe...</td>\n",
       "    </tr>\n",
       "    <tr>\n",
       "      <th>21746</th>\n",
       "      <td>ZWENI, Xolile Milton</td>\n",
       "      <td>A Transkei Defence Force (TDF) soldier who was...</td>\n",
       "    </tr>\n",
       "  </tbody>\n",
       "</table>\n",
       "<p>21747 rows × 2 columns</p>\n",
       "</div>"
      ],
      "text/plain": [
       "                                names  \\\n",
       "0                  AARON, Thabo Simon   \n",
       "1                   ABBOTT, Montaigne   \n",
       "2                 ABDUL WAHAB, Zakier   \n",
       "3      ABRAHAM, Nzaliseko Christopher   \n",
       "4            ABRAHAMS, Achmat Fardiel   \n",
       "...                               ...   \n",
       "21742                   ZWENI, Ernest   \n",
       "21743                   ZWENI, Lebuti   \n",
       "21744                    ZWENI, Louis   \n",
       "21745         ZWENI, Mpantesa William   \n",
       "21746            ZWENI, Xolile Milton   \n",
       "\n",
       "                                            descriptions  \n",
       "0      An ANCYL member who was shot and severely inju...  \n",
       "1      A member of the SADF who was severely injured ...  \n",
       "2      A member of QIBLA who disappeared in September...  \n",
       "3      A COSAS supporter who was kicked and beaten wi...  \n",
       "4      Was shot and blinded in one eye by members of ...  \n",
       "...                                                  ...  \n",
       "21742  One of two South African Police (SAP) members ...  \n",
       "21743  An ANC supporter who was shot dead by a named ...  \n",
       "21744  Was shot dead in Tokoza, Transvaal, on 22 May ...  \n",
       "21745  His home was lost in an arson attack by Witdoe...  \n",
       "21746  A Transkei Defence Force (TDF) soldier who was...  \n",
       "\n",
       "[21747 rows x 2 columns]"
      ]
     },
     "execution_count": 9,
     "metadata": {},
     "output_type": "execute_result"
    }
   ],
   "source": [
    "df = pd.read_json(\"data/vol7.json\")\n",
    "df"
   ]
  },
  {
   "cell_type": "code",
   "execution_count": 10,
   "id": "75a73970-3112-4203-a6c6-f7131afb1094",
   "metadata": {},
   "outputs": [],
   "source": [
    "docs = df.descriptions.tolist()"
   ]
  },
  {
   "cell_type": "code",
   "execution_count": 11,
   "id": "ceffb08e-dc5c-410f-96ec-add1330efb01",
   "metadata": {},
   "outputs": [
    {
     "data": {
      "text/plain": [
       "'Was interrogated, tortured and killed by AZAPO members along with five other scholars in Soweto, Johannesburg, on 1 August 1986. The incident was sparked off by the burning of the house of an AZAPO leader for which the youths were believed to have been responsible. Three perpetrators were refused amnesty, and one was granted amnesty.'"
      ]
     },
     "execution_count": 11,
     "metadata": {},
     "output_type": "execute_result"
    }
   ],
   "source": [
    "docs = [d.replace(\"See \", \"\") for d in docs]\n",
    "docs = [re.sub(r\"\\([^()]*\\)\", \"\", d).replace(\" .\", \".\") for d in docs]\n",
    "docs[100]"
   ]
  },
  {
   "cell_type": "code",
   "execution_count": 13,
   "id": "62c4bd5c-72ec-487e-91af-3bbc0a2e5471",
   "metadata": {},
   "outputs": [],
   "source": [
    "# print(Top2Vec.__doc__)"
   ]
  },
  {
   "cell_type": "code",
   "execution_count": 14,
   "id": "895d6b68-ede1-4a1f-9789-19fa7722ca0e",
   "metadata": {},
   "outputs": [
    {
     "name": "stderr",
     "output_type": "stream",
     "text": [
      "2022-07-01 10:22:35,808 - top2vec - INFO - Pre-processing documents for training\n",
      "2022-07-01 10:22:37,385 - top2vec - INFO - Creating joint document/word embedding\n",
      "2022-07-01 10:23:10,775 - top2vec - INFO - Creating lower dimension embedding of documents\n",
      "2022-07-01 10:23:29,967 - top2vec - INFO - Finding dense areas of documents\n",
      "2022-07-01 10:23:32,524 - top2vec - INFO - Finding topics\n"
     ]
    }
   ],
   "source": [
    "model_min_50 = Top2Vec(docs, speed=\"fast-learn\", min_count=50)"
   ]
  },
  {
   "cell_type": "code",
   "execution_count": 17,
   "id": "99b726a2-3cc1-418d-9386-c8fdfbb632d3",
   "metadata": {},
   "outputs": [
    {
     "data": {
      "text/plain": [
       "915"
      ]
     },
     "execution_count": 17,
     "metadata": {},
     "output_type": "execute_result"
    }
   ],
   "source": [
    "len(model_min_50.vocab)"
   ]
  },
  {
   "cell_type": "code",
   "execution_count": 18,
   "id": "9547e743-b59f-47e2-bbc2-229c8118b285",
   "metadata": {},
   "outputs": [
    {
     "name": "stderr",
     "output_type": "stream",
     "text": [
      "2022-07-01 10:25:06,328 - top2vec - INFO - Pre-processing documents for training\n",
      "2022-07-01 10:25:07,924 - top2vec - INFO - Creating joint document/word embedding\n",
      "2022-07-01 10:25:41,740 - top2vec - INFO - Creating lower dimension embedding of documents\n",
      "2022-07-01 10:25:49,276 - top2vec - INFO - Finding dense areas of documents\n",
      "2022-07-01 10:25:49,851 - top2vec - INFO - Finding topics\n"
     ]
    }
   ],
   "source": [
    "model_min_10 = Top2Vec(docs, speed=\"fast-learn\", min_count=10)"
   ]
  },
  {
   "cell_type": "code",
   "execution_count": 19,
   "id": "e7b00123-12c0-4171-84f8-4f02c9c32002",
   "metadata": {},
   "outputs": [
    {
     "data": {
      "text/plain": [
       "2350"
      ]
     },
     "execution_count": 19,
     "metadata": {},
     "output_type": "execute_result"
    }
   ],
   "source": [
    "len(model_min_10.vocab)"
   ]
  },
  {
   "cell_type": "code",
   "execution_count": 20,
   "id": "0972d4cb-ee31-4b92-b6c0-9d43a6313374",
   "metadata": {},
   "outputs": [
    {
     "name": "stderr",
     "output_type": "stream",
     "text": [
      "2022-07-01 10:27:45,764 - top2vec - INFO - Pre-processing documents for training\n",
      "2022-07-01 10:27:47,517 - top2vec - INFO - Creating joint document/word embedding\n",
      "2022-07-01 10:28:26,135 - top2vec - INFO - Creating lower dimension embedding of documents\n",
      "2022-07-01 10:28:34,065 - top2vec - INFO - Finding dense areas of documents\n",
      "2022-07-01 10:28:34,615 - top2vec - INFO - Finding topics\n"
     ]
    }
   ],
   "source": [
    "model_min_25_ngram = Top2Vec(docs, speed=\"fast-learn\", min_count=25, ngram_vocab=True)"
   ]
  },
  {
   "cell_type": "code",
   "execution_count": 21,
   "id": "6919a9e0-1584-4a8a-9d70-bbcfda9a15e9",
   "metadata": {},
   "outputs": [
    {
     "data": {
      "text/plain": [
       "3126"
      ]
     },
     "execution_count": 21,
     "metadata": {},
     "output_type": "execute_result"
    }
   ],
   "source": [
    "len(model_min_25_ngram.vocab)"
   ]
  },
  {
   "cell_type": "code",
   "execution_count": 23,
   "id": "314deea8-30dc-4863-b634-31d6ca705ebd",
   "metadata": {},
   "outputs": [],
   "source": [
    "bigrams = []\n",
    "for word in model_min_25_ngram.vocab:\n",
    "    if len(word.split()) == 2:\n",
    "        bigrams.append(word)"
   ]
  },
  {
   "cell_type": "code",
   "execution_count": 24,
   "id": "06ddb7ba-598a-4b1c-bb78-9361ca9c64bc",
   "metadata": {},
   "outputs": [
    {
     "data": {
      "text/plain": [
       "['ancyl member',\n",
       " 'bethulie orange',\n",
       " 'free state',\n",
       " 'opened fire',\n",
       " 'dispute between',\n",
       " 'messina transvaal',\n",
       " 'several times',\n",
       " 'south africa',\n",
       " 'with batons',\n",
       " 'rifle butts']"
      ]
     },
     "execution_count": 24,
     "metadata": {},
     "output_type": "execute_result"
    }
   ],
   "source": [
    "bigrams[:10]"
   ]
  },
  {
   "cell_type": "code",
   "execution_count": null,
   "id": "b3e6804e-7806-42cc-84d2-82940f27476c",
   "metadata": {},
   "outputs": [],
   "source": []
  }
 ],
 "metadata": {
  "kernelspec": {
   "display_name": "Python 3 (ipykernel)",
   "language": "python",
   "name": "python3"
  },
  "language_info": {
   "codemirror_mode": {
    "name": "ipython",
    "version": 3
   },
   "file_extension": ".py",
   "mimetype": "text/x-python",
   "name": "python",
   "nbconvert_exporter": "python",
   "pygments_lexer": "ipython3",
   "version": "3.8.5"
  }
 },
 "nbformat": 4,
 "nbformat_minor": 5
}
