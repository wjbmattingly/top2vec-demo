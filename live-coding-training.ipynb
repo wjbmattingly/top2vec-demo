{
 "cells": [
  {
   "cell_type": "code",
   "execution_count": 2,
   "id": "b9f3d518-eb56-4979-8f24-5bbbe6840807",
   "metadata": {},
   "outputs": [],
   "source": [
    "import pandas as pd\n",
    "import re\n",
    "from top2vec import Top2Vec"
   ]
  },
  {
   "cell_type": "code",
   "execution_count": 3,
   "id": "3ede8bca-7c53-4bfc-8ac7-41a37f5c7157",
   "metadata": {},
   "outputs": [
    {
     "data": {
      "text/html": [
       "<div>\n",
       "<style scoped>\n",
       "    .dataframe tbody tr th:only-of-type {\n",
       "        vertical-align: middle;\n",
       "    }\n",
       "\n",
       "    .dataframe tbody tr th {\n",
       "        vertical-align: top;\n",
       "    }\n",
       "\n",
       "    .dataframe thead th {\n",
       "        text-align: right;\n",
       "    }\n",
       "</style>\n",
       "<table border=\"1\" class=\"dataframe\">\n",
       "  <thead>\n",
       "    <tr style=\"text-align: right;\">\n",
       "      <th></th>\n",
       "      <th>names</th>\n",
       "      <th>descriptions</th>\n",
       "    </tr>\n",
       "  </thead>\n",
       "  <tbody>\n",
       "    <tr>\n",
       "      <th>0</th>\n",
       "      <td>AARON, Thabo Simon</td>\n",
       "      <td>An ANCYL member who was shot and severely inju...</td>\n",
       "    </tr>\n",
       "    <tr>\n",
       "      <th>1</th>\n",
       "      <td>ABBOTT, Montaigne</td>\n",
       "      <td>A member of the SADF who was severely injured ...</td>\n",
       "    </tr>\n",
       "    <tr>\n",
       "      <th>2</th>\n",
       "      <td>ABDUL WAHAB, Zakier</td>\n",
       "      <td>A member of QIBLA who disappeared in September...</td>\n",
       "    </tr>\n",
       "    <tr>\n",
       "      <th>3</th>\n",
       "      <td>ABRAHAM, Nzaliseko Christopher</td>\n",
       "      <td>A COSAS supporter who was kicked and beaten wi...</td>\n",
       "    </tr>\n",
       "    <tr>\n",
       "      <th>4</th>\n",
       "      <td>ABRAHAMS, Achmat Fardiel</td>\n",
       "      <td>Was shot and blinded in one eye by members of ...</td>\n",
       "    </tr>\n",
       "    <tr>\n",
       "      <th>...</th>\n",
       "      <td>...</td>\n",
       "      <td>...</td>\n",
       "    </tr>\n",
       "    <tr>\n",
       "      <th>21742</th>\n",
       "      <td>ZWENI, Ernest</td>\n",
       "      <td>One of two South African Police (SAP) members ...</td>\n",
       "    </tr>\n",
       "    <tr>\n",
       "      <th>21743</th>\n",
       "      <td>ZWENI, Lebuti</td>\n",
       "      <td>An ANC supporter who was shot dead by a named ...</td>\n",
       "    </tr>\n",
       "    <tr>\n",
       "      <th>21744</th>\n",
       "      <td>ZWENI, Louis</td>\n",
       "      <td>Was shot dead in Tokoza, Transvaal, on 22 May ...</td>\n",
       "    </tr>\n",
       "    <tr>\n",
       "      <th>21745</th>\n",
       "      <td>ZWENI, Mpantesa William</td>\n",
       "      <td>His home was lost in an arson attack by Witdoe...</td>\n",
       "    </tr>\n",
       "    <tr>\n",
       "      <th>21746</th>\n",
       "      <td>ZWENI, Xolile Milton</td>\n",
       "      <td>A Transkei Defence Force (TDF) soldier who was...</td>\n",
       "    </tr>\n",
       "  </tbody>\n",
       "</table>\n",
       "<p>21747 rows × 2 columns</p>\n",
       "</div>"
      ],
      "text/plain": [
       "                                names  \\\n",
       "0                  AARON, Thabo Simon   \n",
       "1                   ABBOTT, Montaigne   \n",
       "2                 ABDUL WAHAB, Zakier   \n",
       "3      ABRAHAM, Nzaliseko Christopher   \n",
       "4            ABRAHAMS, Achmat Fardiel   \n",
       "...                               ...   \n",
       "21742                   ZWENI, Ernest   \n",
       "21743                   ZWENI, Lebuti   \n",
       "21744                    ZWENI, Louis   \n",
       "21745         ZWENI, Mpantesa William   \n",
       "21746            ZWENI, Xolile Milton   \n",
       "\n",
       "                                            descriptions  \n",
       "0      An ANCYL member who was shot and severely inju...  \n",
       "1      A member of the SADF who was severely injured ...  \n",
       "2      A member of QIBLA who disappeared in September...  \n",
       "3      A COSAS supporter who was kicked and beaten wi...  \n",
       "4      Was shot and blinded in one eye by members of ...  \n",
       "...                                                  ...  \n",
       "21742  One of two South African Police (SAP) members ...  \n",
       "21743  An ANC supporter who was shot dead by a named ...  \n",
       "21744  Was shot dead in Tokoza, Transvaal, on 22 May ...  \n",
       "21745  His home was lost in an arson attack by Witdoe...  \n",
       "21746  A Transkei Defence Force (TDF) soldier who was...  \n",
       "\n",
       "[21747 rows x 2 columns]"
      ]
     },
     "execution_count": 3,
     "metadata": {},
     "output_type": "execute_result"
    }
   ],
   "source": [
    "df = pd.read_json(\"data/vol7.json\")\n",
    "df"
   ]
  },
  {
   "cell_type": "code",
   "execution_count": 4,
   "id": "75a73970-3112-4203-a6c6-f7131afb1094",
   "metadata": {},
   "outputs": [],
   "source": [
    "docs = df.descriptions.tolist()"
   ]
  },
  {
   "cell_type": "code",
   "execution_count": 5,
   "id": "b8be5d39-5a0d-4a36-b9b1-396ca005ffab",
   "metadata": {},
   "outputs": [
    {
     "data": {
      "text/plain": [
       "\"An ANCYL member who was shot and severely injured by SAP members at Lephoi, Bethulie, Orange Free State (OFS) on 17 April 1991. Police opened fire on a gathering at an ANC supporter's house following a dispute between two neighbours, one of whom was linked to the ANC and the other to the SAP and a councillor.\""
      ]
     },
     "execution_count": 5,
     "metadata": {},
     "output_type": "execute_result"
    }
   ],
   "source": [
    "docs[0]"
   ]
  },
  {
   "cell_type": "code",
   "execution_count": 6,
   "id": "4e1046c2-d652-4155-b6c6-5baa799bb98c",
   "metadata": {},
   "outputs": [
    {
     "data": {
      "text/plain": [
       "'Was interrogated, tortured and killed by AZAPO members along with five other scholars in Soweto, Johannesburg, on 1 August 1986. The incident was sparked off by the burning of the house of an AZAPO leader for which the youths were believed to have been responsible. Three perpetrators were refused amnesty, and one was granted amnesty (AC/2000/179 and AC/1999/230).'"
      ]
     },
     "execution_count": 6,
     "metadata": {},
     "output_type": "execute_result"
    }
   ],
   "source": [
    "docs[100]"
   ]
  },
  {
   "cell_type": "code",
   "execution_count": 7,
   "id": "ceffb08e-dc5c-410f-96ec-add1330efb01",
   "metadata": {},
   "outputs": [
    {
     "data": {
      "text/plain": [
       "'Was interrogated, tortured and killed by AZAPO members along with five other scholars in Soweto, Johannesburg, on 1 August 1986. The incident was sparked off by the burning of the house of an AZAPO leader for which the youths were believed to have been responsible. Three perpetrators were refused amnesty, and one was granted amnesty.'"
      ]
     },
     "execution_count": 7,
     "metadata": {},
     "output_type": "execute_result"
    }
   ],
   "source": [
    "docs = [d.replace(\"See \", \"\") for d in docs]\n",
    "docs = [re.sub(r\"\\([^()]*\\)\", \"\", d).replace(\" .\", \".\") for d in docs]\n",
    "docs[100]"
   ]
  },
  {
   "cell_type": "code",
   "execution_count": 8,
   "id": "1cc137a8-c87d-4ca4-ab89-b54c97899e15",
   "metadata": {},
   "outputs": [
    {
     "name": "stdout",
     "output_type": "stream",
     "text": [
      "\n",
      "    Top2Vec\n",
      "\n",
      "    Creates jointly embedded topic, document and word vectors.\n",
      "\n",
      "\n",
      "    Parameters\n",
      "    ----------\n",
      "    documents: List of str\n",
      "        Input corpus, should be a list of strings.\n",
      "\n",
      "    min_count: int (Optional, default 50)\n",
      "        Ignores all words with total frequency lower than this. For smaller\n",
      "        corpora a smaller min_count will be necessary.\n",
      "\n",
      "    ngram_vocab: bool (Optional, default False)\n",
      "        Add phrases to topic descriptions.\n",
      "\n",
      "        Uses gensim phrases to find common phrases in the corpus and adds them\n",
      "        to the vocabulary.\n",
      "\n",
      "        For more information visit:\n",
      "        https://radimrehurek.com/gensim/models/phrases.html\n",
      "\n",
      "    ngram_vocab_args: dict (Optional, default None)\n",
      "        Pass custom arguments to gensim phrases.\n",
      "\n",
      "        For more information visit:\n",
      "        https://radimrehurek.com/gensim/models/phrases.html\n",
      "\n",
      "    embedding_model: string or callable\n",
      "        This will determine which model is used to generate the document and\n",
      "        word embeddings. The valid string options are:\n",
      "\n",
      "            * doc2vec\n",
      "            * universal-sentence-encoder\n",
      "            * universal-sentence-encoder-large\n",
      "            * universal-sentence-encoder-multilingual\n",
      "            * universal-sentence-encoder-multilingual-large\n",
      "            * distiluse-base-multilingual-cased\n",
      "            * all-MiniLM-L6-v2\n",
      "            * paraphrase-multilingual-MiniLM-L12-v2\n",
      "\n",
      "        For large data sets and data sets with very unique vocabulary doc2vec\n",
      "        could produce better results. This will train a doc2vec model from\n",
      "        scratch. This method is language agnostic. However multiple languages\n",
      "        will not be aligned.\n",
      "\n",
      "        Using the universal sentence encoder options will be much faster since\n",
      "        those are pre-trained and efficient models. The universal sentence\n",
      "        encoder options are suggested for smaller data sets. They are also\n",
      "        good options for large data sets that are in English or in languages\n",
      "        covered by the multilingual model. It is also suggested for data sets\n",
      "        that are multilingual.\n",
      "\n",
      "        For more information on universal-sentence-encoder options visit:\n",
      "        https://tfhub.dev/google/collections/universal-sentence-encoder/1\n",
      "\n",
      "        The SBERT pre-trained sentence transformer options are\n",
      "        distiluse-base-multilingual-cased,\n",
      "        paraphrase-multilingual-MiniLM-L12-v2, and all-MiniLM-L6-v2.\n",
      "\n",
      "        The distiluse-base-multilingual-cased and\n",
      "        paraphrase-multilingual-MiniLM-L12-v2 are suggested for multilingual\n",
      "        datasets and languages that are not\n",
      "        covered by the multilingual universal sentence encoder. The\n",
      "        transformer is significantly slower than the universal sentence\n",
      "        encoder options(except for the large options).\n",
      "\n",
      "        For more information on SBERT options visit:\n",
      "        https://www.sbert.net/docs/pretrained_models.html\n",
      "\n",
      "        If passing a callable embedding_model note that it will not be saved\n",
      "        when saving a top2vec model. After loading such a saved top2vec model\n",
      "        the set_embedding_model method will need to be called and the same\n",
      "        embedding_model callable used during training must be passed to it.\n",
      "\n",
      "    embedding_model_path: string (Optional)\n",
      "        Pre-trained embedding models will be downloaded automatically by\n",
      "        default. However they can also be uploaded from a file that is in the\n",
      "        location of embedding_model_path.\n",
      "\n",
      "        Warning: the model at embedding_model_path must match the\n",
      "        embedding_model parameter type.\n",
      "\n",
      "    embedding_batch_size: int (default=32)\n",
      "        Batch size for documents being embedded.\n",
      "\n",
      "    split_documents: bool (default False)\n",
      "        If set to True, documents will be split into parts before embedding.\n",
      "        After embedding the multiple document part embeddings will be averaged\n",
      "        to create a single embedding per document. This is useful when documents\n",
      "        are very large or when the embedding model has a token limit.\n",
      "\n",
      "        Document chunking or a senticizer can be used for document splitting.\n",
      "\n",
      "    document_chunker: string or callable (default 'sequential')\n",
      "        This will break the document into chunks. The valid string options are:\n",
      "\n",
      "            * sequential\n",
      "            * random\n",
      "\n",
      "        The sequential chunker will split the document into chunks of specified\n",
      "        length and ratio of overlap. This is the recommended method.\n",
      "\n",
      "        The random chunking option will take random chunks of specified length\n",
      "        from the document. These can overlap and should be thought of as\n",
      "        sampling chunks with replacement from the document.\n",
      "\n",
      "        If a callable is passed it must take as input a list of tokens of\n",
      "        a document and return a list of strings representing the resulting\n",
      "        document chunks.\n",
      "\n",
      "        Only one of document_chunker or sentincizer should be used.\n",
      "\n",
      "    chunk_length: int (default 100)\n",
      "        The number of tokens per document chunk if using the document chunker\n",
      "        string options.\n",
      "\n",
      "    max_num_chunks: int (Optional)\n",
      "        The maximum number of chunks generated per document if using the\n",
      "        document chunker string options.\n",
      "\n",
      "    chunk_overlap_ratio: float (default 0.5)\n",
      "        Only applies to the 'sequential' document chunker.\n",
      "\n",
      "        Fraction of overlapping tokens between sequential chunks. A value of\n",
      "        0 will result i no overlap, where as 0.5 will overlap half of the\n",
      "        previous chunk.\n",
      "\n",
      "    chunk_len_coverage_ratio: float (default 1.0)\n",
      "        Only applies to the 'random' document chunker option.\n",
      "\n",
      "        Proportion of token length that will be covered by chunks. Default\n",
      "        value of 1.0 means chunk lengths will add up to number of tokens of\n",
      "        the document. This does not mean all tokens will be covered since\n",
      "        chunks can be overlapping.\n",
      "\n",
      "    sentencizer: callable (Optional)\n",
      "        A sentincizer callable can be passed. The input should be a string\n",
      "        representing the document and the output should be a list of strings\n",
      "        representing the document sentence chunks.\n",
      "\n",
      "        Only one of document_chunker or sentincizer should be used.\n",
      "\n",
      "    speed: string (Optional, default 'learn')\n",
      "\n",
      "        This parameter is only used when using doc2vec as embedding_model.\n",
      "\n",
      "        It will determine how fast the model takes to train. The\n",
      "        fast-learn option is the fastest and will generate the lowest quality\n",
      "        vectors. The learn option will learn better quality vectors but take\n",
      "        a longer time to train. The deep-learn option will learn the best\n",
      "        quality vectors but will take significant time to train. The valid\n",
      "        string speed options are:\n",
      "        \n",
      "            * fast-learn\n",
      "            * learn\n",
      "            * deep-learn\n",
      "\n",
      "    use_corpus_file: bool (Optional, default False)\n",
      "\n",
      "        This parameter is only used when using doc2vec as embedding_model.\n",
      "\n",
      "        Setting use_corpus_file to True can sometimes provide speedup for\n",
      "        large datasets when multiple worker threads are available. Documents\n",
      "        are still passed to the model as a list of str, the model will create\n",
      "        a temporary corpus file for training.\n",
      "\n",
      "    document_ids: List of str, int (Optional)\n",
      "        A unique value per document that will be used for referring to\n",
      "        documents in search results. If ids are not given to the model, the\n",
      "        index of each document in the original corpus will become the id.\n",
      "\n",
      "    keep_documents: bool (Optional, default True)\n",
      "        If set to False documents will only be used for training and not saved\n",
      "        as part of the model. This will reduce model size. When using search\n",
      "        functions only document ids will be returned, not the actual\n",
      "        documents.\n",
      "\n",
      "    workers: int (Optional)\n",
      "        The amount of worker threads to be used in training the model. Larger\n",
      "        amount will lead to faster training.\n",
      "    \n",
      "    tokenizer: callable (Optional, default None)\n",
      "        Override the default tokenization method. If None then\n",
      "        gensim.utils.simple_preprocess will be used.\n",
      "\n",
      "        Tokenizer must take a document and return a list of tokens.\n",
      "\n",
      "    use_embedding_model_tokenizer: bool (Optional, default False)\n",
      "        If using an embedding model other than doc2vec, use the model's\n",
      "        tokenizer for document embedding. If set to True the tokenizer, either\n",
      "        default or passed callable will be used to tokenize the text to\n",
      "        extract the vocabulary for word embedding.\n",
      "\n",
      "    umap_args: dict (Optional, default None)\n",
      "        Pass custom arguments to UMAP.\n",
      "\n",
      "    hdbscan_args: dict (Optional, default None)\n",
      "        Pass custom arguments to HDBSCAN.\n",
      "    \n",
      "    verbose: bool (Optional, default True)\n",
      "        Whether to print status data during training.\n",
      "    \n"
     ]
    }
   ],
   "source": [
    "print(Top2Vec.__doc__)"
   ]
  },
  {
   "cell_type": "code",
   "execution_count": 9,
   "id": "4dbff537-7037-484c-aacf-730116b7498b",
   "metadata": {},
   "outputs": [
    {
     "name": "stderr",
     "output_type": "stream",
     "text": [
      "2022-06-30 12:34:12,098 - top2vec - INFO - Pre-processing documents for training\n",
      "2022-06-30 12:34:13,638 - top2vec - INFO - Creating joint document/word embedding\n",
      "2022-06-30 12:34:44,662 - top2vec - INFO - Creating lower dimension embedding of documents\n",
      "2022-06-30 12:35:02,526 - top2vec - INFO - Finding dense areas of documents\n",
      "2022-06-30 12:35:04,992 - top2vec - INFO - Finding topics\n"
     ]
    }
   ],
   "source": [
    "model = Top2Vec(docs, speed=\"fast-learn\")"
   ]
  },
  {
   "cell_type": "code",
   "execution_count": 10,
   "id": "f3d42fc3-ebdd-4647-8fa6-2e5a74cff9e7",
   "metadata": {},
   "outputs": [
    {
     "name": "stderr",
     "output_type": "stream",
     "text": [
      "2022-06-30 12:41:06,927 - top2vec - INFO - Pre-processing documents for training\n",
      "2022-06-30 12:41:08,692 - top2vec - INFO - Creating joint document/word embedding\n",
      "2022-06-30 12:41:40,728 - top2vec - INFO - Creating lower dimension embedding of documents\n",
      "2022-06-30 12:41:47,252 - top2vec - INFO - Finding dense areas of documents\n",
      "2022-06-30 12:41:49,584 - top2vec - INFO - Finding topics\n"
     ]
    }
   ],
   "source": [
    "model_learn = Top2Vec(docs, speed=\"learn\")"
   ]
  },
  {
   "cell_type": "code",
   "execution_count": 11,
   "id": "29c416b6-b40f-468b-97e8-6b940480ba9f",
   "metadata": {},
   "outputs": [
    {
     "name": "stderr",
     "output_type": "stream",
     "text": [
      "2022-06-30 12:47:53,227 - top2vec - INFO - Pre-processing documents for training\n",
      "2022-06-30 12:47:54,797 - top2vec - INFO - Creating joint document/word embedding\n",
      "2022-06-30 12:53:13,652 - top2vec - INFO - Creating lower dimension embedding of documents\n",
      "2022-06-30 12:53:21,815 - top2vec - INFO - Finding dense areas of documents\n",
      "2022-06-30 12:53:24,393 - top2vec - INFO - Finding topics\n"
     ]
    }
   ],
   "source": [
    "model_dlearn = Top2Vec(docs, speed=\"deep-learn\")"
   ]
  },
  {
   "cell_type": "code",
   "execution_count": 12,
   "id": "b463f9f1-086b-47d0-b63b-e6d6af308181",
   "metadata": {},
   "outputs": [
    {
     "name": "stderr",
     "output_type": "stream",
     "text": [
      "2022-06-30 12:54:10,969 - top2vec - INFO - Pre-processing documents for training\n",
      "2022-06-30 12:54:12,481 - top2vec - INFO - Creating joint document/word embedding\n",
      "2022-06-30 13:03:14,862 - top2vec - INFO - Creating lower dimension embedding of documents\n",
      "2022-06-30 13:03:22,278 - top2vec - INFO - Finding dense areas of documents\n",
      "2022-06-30 13:03:24,728 - top2vec - INFO - Finding topics\n"
     ]
    }
   ],
   "source": [
    "model_dlearn = Top2Vec(docs, speed=\"deep-learn\", workers=14)"
   ]
  },
  {
   "cell_type": "code",
   "execution_count": 13,
   "id": "56f977d5-feb4-4d31-8815-029e69a783a9",
   "metadata": {},
   "outputs": [
    {
     "name": "stdout",
     "output_type": "stream",
     "text": [
      "[8667 1520  893  778  745  636  625  579  577  492  416  390  355  354\n",
      "  339  322  318  271  260  251  198  180  179  175  168  167  135  118\n",
      "  113  110  108  100   99   99   98   95   85   80   74   73   69   69\n",
      "   61   60   53   45   39   35   30   22   22]\n",
      "[ 0  1  2  3  4  5  6  7  8  9 10 11 12 13 14 15 16 17 18 19 20 21 22 23\n",
      " 24 25 26 27 28 29 30 31 32 33 34 35 36 37 38 39 40 41 42 43 44 45 46 47\n",
      " 48 49 50]\n"
     ]
    }
   ],
   "source": [
    "topic_sizes, topic_nums = model.get_topic_sizes()\n",
    "print (topic_sizes)\n",
    "print (topic_nums)"
   ]
  },
  {
   "cell_type": "code",
   "execution_count": 14,
   "id": "11203b9b-8309-4c78-a055-7795e3147851",
   "metadata": {},
   "outputs": [
    {
     "name": "stdout",
     "output_type": "stream",
     "text": [
      "[774 336 262 231 220 220 211 209 207 206 193 187 186 185 184 181 177 176\n",
      " 168 165 156 155 149 144 142 138 137 136 133 133 131 130 126 126 121 121\n",
      " 120 117 117 116 114 114 114 111 109 107 106 104 103 103 102 100  99  98\n",
      "  98  98  98  98  96  95  95  95  95  92  92  90  90  90  90  90  90  88\n",
      "  88  86  86  86  85  84  83  83  82  82  82  82  81  81  81  81  81  80\n",
      "  79  78  78  78  77  76  75  74  74  74  73  73  72  71  70  70  70  69\n",
      "  69  69  68  68  68  67  67  67  67  67  67  66  66  65  65  64  64  63\n",
      "  63  63  63  63  62  62  62  62  62  61  61  61  61  61  61  61  60  60\n",
      "  60  59  59  58  58  57  57  57  57  57  56  56  56  56  55  55  55  55\n",
      "  55  55  55  55  55  54  54  54  53  53  53  53  53  52  52  52  52  52\n",
      "  51  51  51  50  50  50  50  49  49  49  49  49  49  49  48  48  48  48\n",
      "  48  48  47  47  47  47  47  45  45  45  45  45  45  44  44  44  44  44\n",
      "  44  44  44  43  42  42  42  42  42  42  42  41  41  41  41  40  40  40\n",
      "  40  40  40  39  39  39  39  39  38  38  38  38  37  37  37  36  36  36\n",
      "  36  36  35  34  34  34  33  32  32  32  31  31  30  30  30  30  29  29\n",
      "  29  28  28  28  27  27  26  25  24  23  23  22  22  22  21  20  20]\n",
      "[  0   1   2   3   4   5   6   7   8   9  10  11  12  13  14  15  16  17\n",
      "  18  19  20  21  22  23  24  25  26  27  28  29  30  31  32  33  34  35\n",
      "  36  37  38  39  40  41  42  43  44  45  46  47  48  49  50  51  52  53\n",
      "  54  55  56  57  58  59  60  61  62  63  64  65  66  67  68  69  70  71\n",
      "  72  73  74  75  76  77  78  79  80  81  82  83  84  85  86  87  88  89\n",
      "  90  91  92  93  94  95  96  97  98  99 100 101 102 103 104 105 106 107\n",
      " 108 109 110 111 112 113 114 115 116 117 118 119 120 121 122 123 124 125\n",
      " 126 127 128 129 130 131 132 133 134 135 136 137 138 139 140 141 142 143\n",
      " 144 145 146 147 148 149 150 151 152 153 154 155 156 157 158 159 160 161\n",
      " 162 163 164 165 166 167 168 169 170 171 172 173 174 175 176 177 178 179\n",
      " 180 181 182 183 184 185 186 187 188 189 190 191 192 193 194 195 196 197\n",
      " 198 199 200 201 202 203 204 205 206 207 208 209 210 211 212 213 214 215\n",
      " 216 217 218 219 220 221 222 223 224 225 226 227 228 229 230 231 232 233\n",
      " 234 235 236 237 238 239 240 241 242 243 244 245 246 247 248 249 250 251\n",
      " 252 253 254 255 256 257 258 259 260 261 262 263 264 265 266 267 268 269\n",
      " 270 271 272 273 274 275 276 277 278 279 280 281 282 283 284 285 286]\n"
     ]
    }
   ],
   "source": [
    "topic_sizes, topic_nums = model_learn.get_topic_sizes()\n",
    "print (topic_sizes)\n",
    "print (topic_nums)"
   ]
  },
  {
   "cell_type": "code",
   "execution_count": 15,
   "id": "ed8a264a-054c-4c15-8beb-3768016d07e7",
   "metadata": {},
   "outputs": [
    {
     "name": "stdout",
     "output_type": "stream",
     "text": [
      "[554 334 329 273 247 228 224 192 192 192 190 190 185 167 156 155 153 141\n",
      " 140 139 135 129 129 129 128 127 127 127 127 127 127 126 124 123 120 119\n",
      " 117 117 117 115 115 115 115 115 113 112 112 111 111 109 108 106 106 104\n",
      " 103 103 102 101 100  99  98  98  97  97  97  96  96  96  95  94  94  94\n",
      "  93  92  92  92  92  91  91  90  90  89  89  88  87  87  87  87  87  87\n",
      "  87  86  86  85  85  85  85  85  84  84  84  83  82  81  81  81  80  80\n",
      "  80  78  78  77  77  77  76  76  76  76  76  75  74  74  74  74  73  73\n",
      "  73  73  73  72  72  71  71  71  70  69  69  69  69  68  68  67  66  66\n",
      "  66  66  65  65  65  65  64  64  63  63  63  63  63  62  62  62  62  61\n",
      "  61  60  60  60  60  60  60  59  59  59  58  58  57  57  56  56  56  55\n",
      "  55  55  55  55  54  54  54  53  53  52  52  52  52  52  52  51  51  51\n",
      "  51  51  49  49  49  49  48  47  47  47  46  46  46  45  45  45  45  45\n",
      "  44  44  44  43  42  42  42  42  41  40  40  40  40  39  39  39  38  38\n",
      "  38  37  37  37  36  35  35  35  34  34  33  33  32  31  31  31  30  30\n",
      "  29  29  29  28  28  27  25  25  25  24  24  24  24  23  22  22  21  19\n",
      "  18  18]\n",
      "[  0   1   2   3   4   5   6   7   8   9  10  11  12  13  14  15  16  17\n",
      "  18  19  20  21  22  23  24  25  26  27  28  29  30  31  32  33  34  35\n",
      "  36  37  38  39  40  41  42  43  44  45  46  47  48  49  50  51  52  53\n",
      "  54  55  56  57  58  59  60  61  62  63  64  65  66  67  68  69  70  71\n",
      "  72  73  74  75  76  77  78  79  80  81  82  83  84  85  86  87  88  89\n",
      "  90  91  92  93  94  95  96  97  98  99 100 101 102 103 104 105 106 107\n",
      " 108 109 110 111 112 113 114 115 116 117 118 119 120 121 122 123 124 125\n",
      " 126 127 128 129 130 131 132 133 134 135 136 137 138 139 140 141 142 143\n",
      " 144 145 146 147 148 149 150 151 152 153 154 155 156 157 158 159 160 161\n",
      " 162 163 164 165 166 167 168 169 170 171 172 173 174 175 176 177 178 179\n",
      " 180 181 182 183 184 185 186 187 188 189 190 191 192 193 194 195 196 197\n",
      " 198 199 200 201 202 203 204 205 206 207 208 209 210 211 212 213 214 215\n",
      " 216 217 218 219 220 221 222 223 224 225 226 227 228 229 230 231 232 233\n",
      " 234 235 236 237 238 239 240 241 242 243 244 245 246 247 248 249 250 251\n",
      " 252 253 254 255 256 257 258 259 260 261 262 263 264 265 266 267 268 269\n",
      " 270 271]\n"
     ]
    }
   ],
   "source": [
    "topic_sizes, topic_nums = model_dlearn.get_topic_sizes()\n",
    "print (topic_sizes)\n",
    "print (topic_nums)"
   ]
  },
  {
   "cell_type": "code",
   "execution_count": 17,
   "id": "d339ed9f-dada-49c8-a10d-a4510cd4f5d0",
   "metadata": {},
   "outputs": [
    {
     "name": "stdout",
     "output_type": "stream",
     "text": [
      "Document: 7847, Score: 0.994350790977478\n",
      "-----------\n",
      "Was stabbed in the face by IFP supporters in Swanieville, near Krugersdorp, Transvaal, on 12 May 1991. IFP-supporting hostel-dwellers were retaliating against a previous attack by ANC-supporting squatters and approximately one hundred and fifteen shacks were set alight, twenty seven people were killed and twenty five vehicles were burnt. Twelve people were charged with crimes ranging from murder to arson but were acquitted due to lack of evidence.\n",
      "-----------\n",
      "\n",
      "Document: 9509, Score: 0.9940825700759888\n",
      "-----------\n",
      "She had her home burnt down by IFP supporters in Swanieville, Krugersdorp, Transvaal, on 12 May 1991. IFP-supporting hostel-dwellers were retaliating against the explusion of IFP supporters from the area. About one hundred and fifteen shacks were set alight, twenty seven people were killed and twenty five vehicles were burnt. Twelve people were charged with crimes ranging from murder to arson but were acquitted due to lack of evidence.\n",
      "-----------\n",
      "\n",
      "Document: 13428, Score: 0.9915739297866821\n",
      "-----------\n",
      "Was shot and killed by IFP supporters in Swanieville, near Krugersdorp, Transvaal, on 12 May 1991. IFP-supporting hostel-dwellers were retaliating for a previous attack by ANC-supporting squatters and about one hundred and fifteen shacks were set alight, twenty seven people were killed and twenty five vehicles were burnt during this retaliation. Twelve people were charged with crimes ranging from murder to arson but were acquitted due to lack of evidence.\n",
      "-----------\n",
      "\n",
      "Document: 7862, Score: 0.9902225136756897\n",
      "-----------\n",
      "Was shot dead by IFP supporters in Swanieville, near Krugersdorp, Transvaal, on 12 May 1991. IFP-supporting hostel-dwellers were retaliating against a previous attack by ANC-supporting squatters and approximately one hundred and fifteen shacks were set alight, twenty seven people were killed and twenty five vehicles were burnt. Twelve people were charged with crimes ranging from murder to arson but were acquitted due to lack of evidence.\n",
      "-----------\n",
      "\n",
      "Document: 7335, Score: 0.9894867539405823\n",
      "-----------\n",
      "She had her home destroyed and was severely beaten by IFP-supporting hostel-dwellers in Swanieville, Krugersdorp, Transvaal, on 12 May 1991. About one hundred and fifteen shacks were set alight, twenty seven people were killed and twenty five vehicles were burnt in retaliation for the expulsion of IFP supporters from the informal settlement. Twelve people were charged with crimes ranging from murder to arson but were acquitted due to lack of evidence.\n",
      "-----------\n",
      "\n",
      "Document: 15614, Score: 0.9889229536056519\n",
      "-----------\n",
      "An ANC supporter who was shot dead in Swanieville, near Krugersdorp, Transvaal, on 12 May 1991 by IFP-supporting hostel-dwellers retaliating against an attack by ANC-supporting residents. Approximately one hundred and fifteen shacks were set alight, twenty seven people were killed and twenty five vehicles were burnt. Twelve people were charged with crimes ranging from murder to arson but were acquitted due to lack of evidence. Swanieville attacks. \n",
      "-----------\n",
      "\n",
      "Document: 11519, Score: 0.9884063005447388\n",
      "-----------\n",
      "She had her home damaged in an arson attack by IFP supporters in Swanieville, near Krugersdorp, Tvl, on 12 May 1991. Hostel-dwellers were retaliating against a previous attack by ANC-supporting squatters and about one hundred and fifteen shacks were set alight, twenty seven people were killed and twenty five vehicles were burnt. Twelve people were charged with crimes ranging from murder to arson but were acquitted due to lack of evidence. \n",
      "-----------\n",
      "\n",
      "Document: 5102, Score: 0.9877894520759583\n",
      "-----------\n",
      "Was stabbed to death when IFP supporters attacked the informal settlement of Swanieville, Krugersdorp, Transvaal, on 12 May 1991 in retaliation for the earlier abduction of two hostel residents. Twenty-seven people were killed, one hundred and fifteen shacks were burnt and twenty five vehicles were set alight. Twelve people were charged with crimes ranging from murder to arson but were acquitted due to lack of evidence. \n",
      "-----------\n",
      "\n",
      "Document: 71, Score: 0.987781822681427\n",
      "-----------\n",
      "An ANC supporter who was shot and injured by IFP-supporting hostel-dwellers in Swanieville, near Krugersdorp, Transvaal, on 12 May 1991. About one hundred and fifteen shacks were set alight, twenty seven people killed and twenty five vehicles burnt in retaliation for the expulsion of IFP supporters from the area. Twelve people were charged with crimes ranging from murder to arson, but were later acquitted due to lack of evidence.\n",
      "-----------\n",
      "\n",
      "Document: 6849, Score: 0.9876234531402588\n",
      "-----------\n",
      "An ANC supporter who was shot dead by IFP-aligned hostel-dwellers in Swanieville, Krugersdorp, Transvaal, on 12 May 1991. About one hundred and fifteen shacks were set alight, twenty seven people were killed and twenty five vehicles were burnt in retaliation for the expulsion of IFP supporters from Swanieville informal settlement. Twelve people were charged with crimes ranging from murder to arson but were acquitted due to lack of evidence.\n",
      "-----------\n",
      "\n"
     ]
    }
   ],
   "source": [
    "documents, document_scores, document_ids = model.search_documents_by_topic(topic_num=50, num_docs=10)\n",
    "for doc, score, doc_id in zip(documents, document_scores, document_ids):\n",
    "    print(f\"Document: {doc_id}, Score: {score}\")\n",
    "    print(\"-----------\")\n",
    "    print(doc)\n",
    "    print(\"-----------\")\n",
    "    print()"
   ]
  },
  {
   "cell_type": "code",
   "execution_count": 18,
   "id": "2c5f1e2b-8961-4f05-a264-c73e495b883c",
   "metadata": {},
   "outputs": [
    {
     "name": "stdout",
     "output_type": "stream",
     "text": [
      "Document: 6059, Score: 0.9398622512817383\n",
      "-----------\n",
      "An ANC supporter who was shot and injured by Inkatha supporters, one of whom is named, at Maliwanqa, near Port Shepstone, Natal, on 19 April 1990.\n",
      "-----------\n",
      "\n",
      "Document: 6048, Score: 0.9345434904098511\n",
      "-----------\n",
      "An ANC supporter who was shot and injured by Inkatha supporters, one of whom is named, at Maliwanqa, near Port Shepstone, Natal, on 19 April 1990.\n",
      "-----------\n",
      "\n",
      "Document: 16291, Score: 0.886009156703949\n",
      "-----------\n",
      "Was shot dead by ANC supporters, one of whom is named, during political conflict at Umlazi, Durban, on 16 December 1993. Ms Ntombela was asleep in her house when she was shot.\n",
      "-----------\n",
      "\n",
      "Document: 19918, Score: 0.8855718374252319\n",
      "-----------\n",
      "An ANC supporter who had her home at Inanda, near KwaMashu, Durban, destroyed in an arson attack by Inkatha supporters, one of whom is named, on 18 December 1988. \n",
      "-----------\n",
      "\n",
      "Document: 16504, Score: 0.8843755722045898\n",
      "-----------\n",
      "An ANC supporter who was assaulted with a knobkierie by Inkatha supporters, one of whom is named, at KwaMashu, Durban, in 1984. \n",
      "-----------\n",
      "\n",
      "Document: 19916, Score: 0.8837720155715942\n",
      "-----------\n",
      "An ANC supporter who was shot and injured by Inkatha supporters, one of whom is named, at Inanda, near KwaMashu, Durban, on 18 December 1988. \n",
      "-----------\n",
      "\n",
      "Document: 6661, Score: 0.8830054998397827\n",
      "-----------\n",
      "A UDF supporter who was shot and injured by members of the SAP, one of whom is named, during intense political conflict in Burgersdorp, Cape, on 20 June 1986.\n",
      "-----------\n",
      "\n",
      "Document: 13729, Score: 0.8779248595237732\n",
      "-----------\n",
      "Was shot dead by Inkatha supporters, one of whom is named, in Mpumalanga, KwaZulu, near Durban, on 23 December 1988 during intense conflict between UDF and Inkatha supporters in the area.\n",
      "-----------\n",
      "\n",
      "Document: 16531, Score: 0.8583389520645142\n",
      "-----------\n",
      "Was shot and stabbed to death by IFP supporters, one of whom is named, during political conflict at Bhoboyi, Port Shepstone, Natal, on 20 July 1992. \n",
      "-----------\n",
      "\n",
      "Document: 16567, Score: 0.8508297801017761\n",
      "-----------\n",
      "She had her home burnt down by IFP supporters, one of whom is named, during political conflict in Port Shepstone, Natal, on 7 December 1991. \n",
      "-----------\n",
      "\n"
     ]
    }
   ],
   "source": [
    "documents, document_scores, document_ids = model_learn.search_documents_by_topic(topic_num=286, num_docs=10)\n",
    "for doc, score, doc_id in zip(documents, document_scores, document_ids):\n",
    "    print(f\"Document: {doc_id}, Score: {score}\")\n",
    "    print(\"-----------\")\n",
    "    print(doc)\n",
    "    print(\"-----------\")\n",
    "    print()"
   ]
  },
  {
   "cell_type": "code",
   "execution_count": 21,
   "id": "d844718d-ec9a-4430-a18c-42cdef1e5f3c",
   "metadata": {},
   "outputs": [
    {
     "name": "stdout",
     "output_type": "stream",
     "text": [
      "Document: 3034, Score: 0.9714802503585815\n",
      "-----------\n",
      "His house was looted by Inkatha supporters during intense political violence in Woodyglen, Mpumalanga, KwaZulu, near Durban, on 11 February 1990, the same day Nelson Mandela was released from prison. Ten people were killed in the fighting which lasted for a week. A former IFP member was granted amnesty. Mpumalanga attacks.\n",
      "-----------\n",
      "\n",
      "Document: 6803, Score: 0.9631528854370117\n",
      "-----------\n",
      "She had her house looted and set alight by Inkatha supporters during intense political violence in Woodyglen, Mpumalanga, KwaZulu, near Durban, on 11 February 1990, the same day Nelson Mandela was released from prison. Ten people were killed in the fighting which lasted for a week. A former IFP member was granted amnesty. Mpumalanga attacks. \n",
      "-----------\n",
      "\n",
      "Document: 6795, Score: 0.9625179767608643\n",
      "-----------\n",
      "He had his house looted and set alight by Inkatha supporters during intense political violence in Woodyglen, Mpumalanga, KwaZulu, near Durban, on 11 February 1990, the same day Nelson Mandela was released from prison. Ten people were killed in the fighting which lasted for a week. A former IFP member was granted amnesty. Mpumalanga attacks.\n",
      "-----------\n",
      "\n",
      "Document: 3155, Score: 0.959749698638916\n",
      "-----------\n",
      "A UDF supporter who was shot and killed during intense political violence in Woodyglen, Mpumalanga, KwaZulu, near Durban, on 11 February 1990, the same day Nelson Mandela was released from prison. Ten people were killed in the fighting which lasted for a week. Mpumalanga attacks. A former IFP member was granted amnesty.\n",
      "-----------\n",
      "\n",
      "Document: 19791, Score: 0.95965975522995\n",
      "-----------\n",
      "A UDF supporter who was shot and killed by Inkatha supporters during intense political violence in Woodyglen, Mpumalanga, KwaZulu, near Durban, on 11 February 1990, the same day Nelson Mandela was released from prison. Ten people were killed in the fighting which lasted for a week. Mpumalanga attacks. A former IFP member was granted amnesty. \n",
      "-----------\n",
      "\n",
      "Document: 3840, Score: 0.9563361406326294\n",
      "-----------\n",
      "Was attacked and killed by Inkatha supporters during intense political violence in Woodyglen, Mpumalanga, KwaZulu, near Durban, on 11 February 1990, the same day Nelson Mandela was released from prison. Ten people were killed in the fighting which lasted for a week. A former IFP member was granted amnesty. Mpumalanga attacks.\n",
      "-----------\n",
      "\n",
      "Document: 9625, Score: 0.9541968703269958\n",
      "-----------\n",
      "Was stabbed, shot and killed by Inkatha supporters during intense political violence in Woodyglen, Mpumalanga, KwaZulu, near Durban, on 11 February 1990, the same day Nelson Mandela was released from prison. Ten people were killed in the fighting which lasted for a week. Mpumalanga attacks. A former IFP member was granted amnesty.\n",
      "-----------\n",
      "\n",
      "Document: 14966, Score: 0.9494524598121643\n",
      "-----------\n",
      "He had his car set alight alight and house looted by Inkatha supporters during intense political violence in Woodyglen, Mpumalanga, KwaZulu, near Durban, on 11 February 1990, the same day Nelson Mandela was released from prison. Ten people were killed in the fighting which lasted for a week. Mpumalanga attacks. A former IFP member was granted amnesty. \n",
      "-----------\n",
      "\n",
      "Document: 4218, Score: 0.948325514793396\n",
      "-----------\n",
      "His car was set alight and his house looted by Inkatha supporters during intense political violence in Woodyglen, Mpumalanga, KwaZulu, near Durban, on 11 February 1990, the same day Nelson Mandela was released from prison. Ten people were killed in the fighting which lasted for a week. A former IFP member was granted amnesty. Mpumalanga attacks. \n",
      "-----------\n",
      "\n",
      "Document: 21619, Score: 0.9474297761917114\n",
      "-----------\n",
      "Her car was set alight alight and house looted by Inkatha supporters during intense political violence in Woodyglen, Mpumalanga, KwaZulu, near Durban, on 11 February 1990, the same day Nelson Mandela was released from prison. Ten people were killed in the fighting which lasted for a week. A former IFP member was granted amnesty. Mpumalanga attacks. \n",
      "-----------\n",
      "\n"
     ]
    }
   ],
   "source": [
    "documents, document_scores, document_ids = model_dlearn.search_documents_by_topic(topic_num=271, num_docs=10)\n",
    "for doc, score, doc_id in zip(documents, document_scores, document_ids):\n",
    "    print(f\"Document: {doc_id}, Score: {score}\")\n",
    "    print(\"-----------\")\n",
    "    print(doc)\n",
    "    print(\"-----------\")\n",
    "    print()"
   ]
  },
  {
   "cell_type": "code",
   "execution_count": null,
   "id": "22832872-e893-491f-b759-2391d146210d",
   "metadata": {},
   "outputs": [],
   "source": []
  }
 ],
 "metadata": {
  "kernelspec": {
   "display_name": "Python 3 (ipykernel)",
   "language": "python",
   "name": "python3"
  },
  "language_info": {
   "codemirror_mode": {
    "name": "ipython",
    "version": 3
   },
   "file_extension": ".py",
   "mimetype": "text/x-python",
   "name": "python",
   "nbconvert_exporter": "python",
   "pygments_lexer": "ipython3",
   "version": "3.8.5"
  }
 },
 "nbformat": 4,
 "nbformat_minor": 5
}
